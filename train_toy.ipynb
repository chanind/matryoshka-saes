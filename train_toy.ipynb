{
 "cells": [
  {
   "cell_type": "code",
   "execution_count": null,
   "metadata": {},
   "outputs": [],
   "source": [
    "import torch\n",
    "import numpy as np\n",
    "from toy_model import Tree, TreeDataset\n",
    "import json\n",
    "\n",
    "\n",
    "DEVICE = 'cpu'\n",
    "\n",
    "\n",
    "tree_dict = json.load(open('./tree.json', 'r'))\n",
    "\n",
    "tree = Tree(tree_dict=tree_dict)\n",
    "\n",
    "D_MODEL = tree.n_features\n",
    "\n",
    "matryoshka_config = {\n",
    "    'n_latents': tree.n_features,\n",
    "    'target_l0': 1.2338, # L0 of the true features\n",
    "    'n_prefixes': 10,\n",
    "    'd_model': D_MODEL,\n",
    "    'n_steps': 50000,\n",
    "    'lr': 3e-2,\n",
    "    'permute_latents': True,\n",
    "    'sparsity_type': 'l1',\n",
    "    'starting_sparsity_loss_scale': 0.2\n",
    "}\n",
    "\n",
    "\n",
    "vanilla_config = matryoshka_config | {'n_prefixes': 1, 'permute_latents': False}"
   ]
  },
  {
   "cell_type": "code",
   "execution_count": null,
   "metadata": {},
   "outputs": [],
   "source": [
    "from scipy.optimize import linear_sum_assignment\n",
    "\n",
    "@torch.no_grad()\n",
    "def get_latent_perm(sae, tree_ds, include_all_latents=False):\n",
    "    '''\n",
    "    Get permutation of sae latents that tries to assign each latent to its closest-matching ground-truth feature\n",
    "    '''\n",
    "    global DEVICE\n",
    "    sample = tree_ds.tree.sample(1000).to(DEVICE)\n",
    "    x = sample @ tree_ds.true_feats.to(DEVICE)\n",
    "    \n",
    "    feat_norms = tree_ds.true_feats.norm(dim=-1).to(DEVICE)\n",
    "    scaled_sample = sample * feat_norms[None, :]\n",
    "\n",
    "    true_acts = scaled_sample\n",
    "    true_acts = true_acts/true_acts.max(dim=0, keepdim=True).values.clamp(min=1e-10)\n",
    "\n",
    "    with torch.no_grad():\n",
    "        sae_acts = sae.get_acts(x)\n",
    "        sae_acts = sae_acts/sae_acts.max(dim=0, keepdim=True).values.clamp(min=1e-10)\n",
    "        sims = (sae_acts.T @ true_acts).cpu()\n",
    "\n",
    "    max_value = sims.max()\n",
    "    cost_matrix = max_value - sims\n",
    "\n",
    "    row_ind, col_ind = row_ind, col_ind = linear_sum_assignment(cost_matrix.detach().cpu().numpy().T)\n",
    "    leftover_features = np.array(list({i for i in range(sims.shape[0]) if sae_acts.max(dim=0).values[i] > 0} - set(col_ind))).astype(int)\n",
    "    \n",
    "    if include_all_latents:\n",
    "        return torch.tensor(np.concatenate([col_ind, leftover_features]))\n",
    "    else:\n",
    "        return torch.tensor(col_ind)"
   ]
  },
  {
   "cell_type": "code",
   "execution_count": null,
   "metadata": {},
   "outputs": [],
   "source": [
    "\n",
    "from torch.utils.data import DataLoader\n",
    "from sae import MatryoshkaSAE\n",
    "from tqdm import tqdm\n",
    "\n",
    "# Get true_feats\n",
    "true_feats = (torch.randn(tree.n_features, D_MODEL)/np.sqrt(D_MODEL)).to(DEVICE)\n",
    "\n",
    "# Generate random orthogonal directions by taking QR decomposition of random matrix\n",
    "Q, R = torch.linalg.qr(torch.randn(D_MODEL, D_MODEL))\n",
    "true_feats = Q[:tree.n_features].to(DEVICE)\n",
    "\n",
    "\n",
    "random_scaling = 1+torch.randn(tree.n_features, device=DEVICE)* 0.05\n",
    "true_feats *= random_scaling[:, None]\n",
    "\n",
    "\n",
    "dataset = TreeDataset(tree, true_feats.cpu(), batch_size=200, num_batches=vanilla_config['n_steps'])\n",
    "dataloader = DataLoader(dataset, batch_size=None, num_workers=6, pin_memory=True)\n",
    "\n",
    "ref_acts = dataset.tree.sample(100).to(DEVICE)\n",
    "ref_x = ref_acts @ dataset.true_feats.to(DEVICE)\n",
    "ref_acts = ref_acts*random_scaling[None]\n"
   ]
  },
  {
   "cell_type": "code",
   "execution_count": null,
   "metadata": {},
   "outputs": [],
   "source": [
    "from IPython.display import clear_output\n",
    "from heatmap import heatmap\n",
    "\n",
    "\n",
    "vanilla_sae = MatryoshkaSAE(**vanilla_config).to(DEVICE)\n",
    "matryoshka_sae = MatryoshkaSAE(**matryoshka_config).to(DEVICE)\n",
    "\n",
    "for step, batch in tqdm(enumerate(dataloader), total=vanilla_config['n_steps']):\n",
    "    batch = batch.to(DEVICE)\n",
    "\n",
    "    matryoshka_sae.step(batch)\n",
    "    vanilla_sae.step(batch)\n",
    "\n",
    "    if step % 300 == 0:\n",
    "        clear_output(wait=True)\n",
    "    \n",
    "        heatmap(ref_acts.cpu(), title='Ground-Truth Features').show()\n",
    "\n",
    "        matryoshka_perm = get_latent_perm(matryoshka_sae, dataset)\n",
    "        heatmap(matryoshka_sae.get_acts(ref_x)[:,matryoshka_perm].cpu(), title=f'Matryoshka Latents  |  Sparsity Reg: {matryoshka_sae.sparsity_controller():.2f}  |  Step {step}',).show()\n",
    "\n",
    "        vanilla_perm = get_latent_perm(vanilla_sae, dataset)\n",
    "        heatmap(vanilla_sae.get_acts(ref_x)[:,vanilla_perm].cpu(), title=f'Vanilla Latents  |  Sparsity Reg: {vanilla_sae.sparsity_controller():.2f}  |  Step {step}').show()"
   ]
  },
  {
   "cell_type": "code",
   "execution_count": null,
   "metadata": {},
   "outputs": [],
   "source": [
    "vanilla_sae.W_dec"
   ]
  },
  {
   "cell_type": "code",
   "execution_count": 113,
   "metadata": {},
   "outputs": [
    {
     "data": {
      "application/vnd.plotly.v1+json": {
       "config": {
        "plotlyServerURL": "https://plot.ly"
       },
       "data": [
        {
         "colorscale": [
          [
           0,
           "#440154"
          ],
          [
           0.1111111111111111,
           "#482878"
          ],
          [
           0.2222222222222222,
           "#3e4989"
          ],
          [
           0.3333333333333333,
           "#31688e"
          ],
          [
           0.4444444444444444,
           "#26828e"
          ],
          [
           0.5555555555555556,
           "#1f9e89"
          ],
          [
           0.6666666666666666,
           "#35b779"
          ],
          [
           0.7777777777777778,
           "#6ece58"
          ],
          [
           0.8888888888888888,
           "#b5de2b"
          ],
          [
           1,
           "#fde725"
          ]
         ],
         "type": "heatmap",
         "z": [
          [
           0.9999999403953552,
           -5.983277873156112e-8,
           5.0738137247208215e-8,
           -3.9928256256871464e-8,
           -8.405889317941728e-10,
           -7.025002446425788e-8,
           1.2747872801810445e-7,
           -5.251732204669679e-8,
           -4.85969593455593e-8,
           -1.3769898998816643e-8,
           3.607711462905172e-8,
           -1.7511524674773682e-8,
           1.766086654697574e-8,
           -8.903080583877454e-8,
           4.382917495604488e-8,
           -6.37207833165121e-8,
           -3.430147543781459e-8,
           -1.0854361853773753e-8,
           5.61983704017166e-8,
           3.11547339038043e-8
          ],
          [
           -5.983277873156112e-8,
           0.9999999403953552,
           -9.38883246703881e-8,
           8.213817181967897e-8,
           3.727523534280408e-8,
           -5.257803792346749e-8,
           2.7208724162619546e-8,
           -3.8065110175011796e-8,
           1.1166911662030543e-7,
           -1.0128028549161172e-7,
           -6.74606397410571e-8,
           -4.700510913835387e-8,
           -6.8017014243082485e-9,
           -4.985848889305089e-8,
           -3.170854157019676e-8,
           4.90554370458085e-8,
           -2.821091138471843e-9,
           1.3935864906500228e-8,
           2.3556582462447295e-8,
           -6.048643541589627e-8
          ],
          [
           5.0738137247208215e-8,
           -9.38883246703881e-8,
           0.9999997615814209,
           -3.082751476313206e-8,
           2.9870552253896676e-8,
           3.021727934537921e-8,
           -2.966833179129935e-8,
           5.114433321296019e-8,
           -2.544509136725992e-8,
           1.2953575989627097e-8,
           2.750353722547061e-8,
           2.2121067644320647e-8,
           8.678379259663416e-8,
           6.870457980312494e-8,
           -8.441269905290483e-9,
           -1.0193982546979896e-8,
           -9.566792691373394e-9,
           4.4006402077911844e-8,
           -5.5093927642246854e-8,
           1.6179814821271066e-8
          ],
          [
           -3.9928256256871464e-8,
           8.213817181967897e-8,
           -3.082751476313206e-8,
           0.9999999403953552,
           7.443948391028243e-8,
           5.161554028632054e-8,
           -3.50353772660128e-8,
           -1.8875159923936735e-7,
           -2.6866302960115718e-8,
           -8.980308052741748e-8,
           -4.0377239329814074e-9,
           -4.0937198519941376e-8,
           -5.7701019073874704e-8,
           2.3362265011428462e-8,
           -6.287458376164068e-8,
           2.031114121336941e-8,
           -2.3138600369065898e-8,
           -6.408440889060785e-9,
           -6.530206064780941e-8,
           -4.0786915178614436e-8
          ],
          [
           -8.405889317941728e-10,
           3.727523534280408e-8,
           2.9870552253896676e-8,
           7.443948391028243e-8,
           0.9999999403953552,
           5.167619931967238e-8,
           -5.873832265024248e-8,
           -5.548689330225898e-8,
           -2.0593207139540937e-9,
           -3.4419421979237086e-8,
           -1.8332574569512872e-8,
           1.1463090032748369e-7,
           4.507056416969135e-8,
           -5.272794467714448e-8,
           -5.095225930062952e-8,
           6.1960694353047074e-9,
           -3.134873693966256e-8,
           -2.2590368686792317e-8,
           3.002191384382513e-9,
           -3.558628502986494e-9
          ],
          [
           -7.025002446425788e-8,
           -5.257803792346749e-8,
           3.021727934537921e-8,
           5.161554028632054e-8,
           5.167619931967238e-8,
           1,
           -2.638692109258045e-8,
           5.3967184499015275e-8,
           4.3065302435252306e-8,
           8.5896289192533e-8,
           1.224210866013209e-8,
           -4.113601193012073e-8,
           8.15821810107309e-9,
           -1.177455377643355e-8,
           2.4748244342731596e-8,
           -8.5191729226608e-9,
           7.444845095960773e-8,
           7.81858986442785e-8,
           -3.0820974217249386e-8,
           4.104129658344391e-8
          ],
          [
           1.2747872801810445e-7,
           2.7208724162619546e-8,
           -2.966833179129935e-8,
           -3.50353772660128e-8,
           -5.873832265024248e-8,
           -2.638692109258045e-8,
           1,
           2.3412763283658933e-8,
           -2.6442998901643477e-9,
           1.0186385068777781e-9,
           5.442628037144459e-8,
           -1.0879356082682534e-8,
           8.00464405870116e-8,
           -7.065838047992656e-8,
           -1.4319248009542207e-9,
           7.501213872274093e-9,
           3.2368854263609137e-9,
           1.2055638265451307e-8,
           -2.9338700358039205e-8,
           3.4223713640813e-8
          ],
          [
           -5.251732204669679e-8,
           -3.8065110175011796e-8,
           5.114433321296019e-8,
           -1.8875159923936735e-7,
           -5.548689330225898e-8,
           5.3967184499015275e-8,
           2.3412763283658933e-8,
           0.9999999403953552,
           -2.1472107647468874e-8,
           6.818048348122829e-9,
           7.24303816923566e-8,
           -6.476002312183482e-8,
           1.118310422043578e-8,
           -2.8217179703915463e-8,
           -2.4815093979668745e-8,
           -8.730747680374407e-9,
           7.490936582144059e-8,
           -1.0273884853972959e-8,
           3.4962205575084226e-8,
           1.451691122866805e-8
          ],
          [
           -4.85969593455593e-8,
           1.1166911662030543e-7,
           -2.544509136725992e-8,
           -2.6866302960115718e-8,
           -2.0593207139540937e-9,
           4.3065302435252306e-8,
           -2.6442998901643477e-9,
           -2.1472107647468874e-8,
           0.9999998807907104,
           3.1588651694391956e-8,
           -2.106368413024029e-9,
           8.533481121730802e-8,
           -5.8992490892251226e-8,
           -6.827000476050671e-8,
           -6.177710787369506e-8,
           -4.6509999407362557e-8,
           -3.168648987639244e-8,
           -2.552642719422238e-8,
           -6.479030645323292e-8,
           1.527810589152523e-8
          ],
          [
           -1.3769898998816643e-8,
           -1.0128028549161172e-7,
           1.2953575989627097e-8,
           -8.980308052741748e-8,
           -3.4419421979237086e-8,
           8.5896289192533e-8,
           1.0186385068777781e-9,
           6.818048348122829e-9,
           3.1588651694391956e-8,
           1,
           7.173642302404915e-8,
           5.6717425422903034e-8,
           -4.7946222991868126e-8,
           1.906485813663039e-8,
           1.2109584446307053e-8,
           -5.583036966072541e-8,
           3.123556169271069e-8,
           -1.1239828623388348e-8,
           -5.244950695981743e-9,
           -1.7056304812967937e-8
          ],
          [
           3.607711462905172e-8,
           -6.74606397410571e-8,
           2.750353722547061e-8,
           -4.0377239329814074e-9,
           -1.8332574569512872e-8,
           1.224210866013209e-8,
           5.442628037144459e-8,
           7.24303816923566e-8,
           -2.106368413024029e-9,
           7.173642302404915e-8,
           0.9999998807907104,
           3.782605162427899e-8,
           3.055214392588823e-8,
           -4.410478382510519e-8,
           3.4265145387735174e-8,
           -1.1345573369681006e-9,
           2.0191947669445653e-8,
           2.2100628882526507e-8,
           4.1010508766703424e-8,
           1.1254726928200398e-8
          ],
          [
           -1.7511524674773682e-8,
           -4.700510913835387e-8,
           2.2121067644320647e-8,
           -4.0937198519941376e-8,
           1.1463090032748369e-7,
           -4.113601193012073e-8,
           -1.0879356082682534e-8,
           -6.476002312183482e-8,
           8.533481121730802e-8,
           5.6717425422903034e-8,
           3.782605162427899e-8,
           1,
           3.8534889057473265e-8,
           2.5982714646488603e-8,
           -1.6445966366518405e-8,
           -4.455307589523727e-8,
           9.661531130689127e-9,
           -1.3552443611786202e-8,
           1.1837974511763605e-7,
           8.58439186401938e-9
          ],
          [
           1.766086654697574e-8,
           -6.8017014243082485e-9,
           8.678379259663416e-8,
           -5.7701019073874704e-8,
           4.507056416969135e-8,
           8.15821810107309e-9,
           8.00464405870116e-8,
           1.118310422043578e-8,
           -5.8992490892251226e-8,
           -4.7946222991868126e-8,
           3.055214392588823e-8,
           3.8534889057473265e-8,
           0.9999999403953552,
           -4.6573919831871535e-8,
           5.179185080805837e-8,
           -1.8691677539095508e-8,
           1.587707387784576e-8,
           -3.7156365095825095e-8,
           1.1644959663215104e-8,
           5.4664461401898734e-8
          ],
          [
           -8.903080583877454e-8,
           -4.985848889305089e-8,
           6.870457980312494e-8,
           2.3362265011428462e-8,
           -5.272794467714448e-8,
           -1.177455377643355e-8,
           -7.065838047992656e-8,
           -2.8217179703915463e-8,
           -6.827000476050671e-8,
           1.906485813663039e-8,
           -4.410478382510519e-8,
           2.5982714646488603e-8,
           -4.6573919831871535e-8,
           1,
           -5.196325503220578e-8,
           2.6242160444667206e-8,
           1.956953177284504e-8,
           8.125353723187345e-9,
           9.958700530887654e-11,
           -2.184273562022554e-8
          ],
          [
           4.382917495604488e-8,
           -3.170854157019676e-8,
           -8.441269905290483e-9,
           -6.287458376164068e-8,
           -5.095225930062952e-8,
           2.4748244342731596e-8,
           -1.4319248009542207e-9,
           -2.4815093979668745e-8,
           -6.177710787369506e-8,
           1.2109584446307053e-8,
           3.4265145387735174e-8,
           -1.6445966366518405e-8,
           5.179185080805837e-8,
           -5.196325503220578e-8,
           1,
           -1.252726988809627e-8,
           -6.773308136587275e-9,
           -2.820827571525797e-9,
           3.0694984332058084e-8,
           -1.1363167295996845e-8
          ],
          [
           -6.37207833165121e-8,
           4.90554370458085e-8,
           -1.0193982546979896e-8,
           2.031114121336941e-8,
           6.1960694353047074e-9,
           -8.5191729226608e-9,
           7.501213872274093e-9,
           -8.730747680374407e-9,
           -4.6509999407362557e-8,
           -5.583036966072541e-8,
           -1.1345573369681006e-9,
           -4.455307589523727e-8,
           -1.8691677539095508e-8,
           2.6242160444667206e-8,
           -1.252726988809627e-8,
           1.0000001192092896,
           2.1539744210485878e-8,
           -1.4632059119890073e-8,
           -6.770913074660712e-8,
           -3.449873631211631e-8
          ],
          [
           -3.430147543781459e-8,
           -2.821091138471843e-9,
           -9.566792691373394e-9,
           -2.3138600369065898e-8,
           -3.134873693966256e-8,
           7.444845095960773e-8,
           3.2368854263609137e-9,
           7.490936582144059e-8,
           -3.168648987639244e-8,
           3.123556169271069e-8,
           2.0191947669445653e-8,
           9.661531130689127e-9,
           1.587707387784576e-8,
           1.956953177284504e-8,
           -6.773308136587275e-9,
           2.1539744210485878e-8,
           0.9999997615814209,
           -6.254347084677647e-8,
           -9.642519671615446e-9,
           4.758412330829742e-8
          ],
          [
           -1.0854361853773753e-8,
           1.3935864906500228e-8,
           4.4006402077911844e-8,
           -6.408440889060785e-9,
           -2.2590368686792317e-8,
           7.81858986442785e-8,
           1.2055638265451307e-8,
           -1.0273884853972959e-8,
           -2.552642719422238e-8,
           -1.1239828623388348e-8,
           2.2100628882526507e-8,
           -1.3552443611786202e-8,
           -3.7156365095825095e-8,
           8.125353723187345e-9,
           -2.820827571525797e-9,
           -1.4632059119890073e-8,
           -6.254347084677647e-8,
           1.0000001192092896,
           1.4369427425720005e-8,
           -4.595849034672028e-8
          ],
          [
           5.61983704017166e-8,
           2.3556582462447295e-8,
           -5.5093927642246854e-8,
           -6.530206064780941e-8,
           3.002191384382513e-9,
           -3.0820974217249386e-8,
           -2.9338700358039205e-8,
           3.4962205575084226e-8,
           -6.479030645323292e-8,
           -5.244950695981743e-9,
           4.1010508766703424e-8,
           1.1837974511763605e-7,
           1.1644959663215104e-8,
           9.958700530887654e-11,
           3.0694984332058084e-8,
           -6.770913074660712e-8,
           -9.642519671615446e-9,
           1.4369427425720005e-8,
           0.9999999403953552,
           1.8283840219623926e-8
          ],
          [
           3.11547339038043e-8,
           -6.048643541589627e-8,
           1.6179814821271066e-8,
           -4.0786915178614436e-8,
           -3.558628502986494e-9,
           4.104129658344391e-8,
           3.4223713640813e-8,
           1.451691122866805e-8,
           1.527810589152523e-8,
           -1.7056304812967937e-8,
           1.1254726928200398e-8,
           8.58439186401938e-9,
           5.4664461401898734e-8,
           -2.184273562022554e-8,
           -1.1363167295996845e-8,
           -3.449873631211631e-8,
           4.758412330829742e-8,
           -4.595849034672028e-8,
           1.8283840219623926e-8,
           1.0000001192092896
          ]
         ]
        }
       ],
       "layout": {
        "height": 600,
        "template": {
         "data": {
          "bar": [
           {
            "error_x": {
             "color": "#2a3f5f"
            },
            "error_y": {
             "color": "#2a3f5f"
            },
            "marker": {
             "line": {
              "color": "#E5ECF6",
              "width": 0.5
             },
             "pattern": {
              "fillmode": "overlay",
              "size": 10,
              "solidity": 0.2
             }
            },
            "type": "bar"
           }
          ],
          "barpolar": [
           {
            "marker": {
             "line": {
              "color": "#E5ECF6",
              "width": 0.5
             },
             "pattern": {
              "fillmode": "overlay",
              "size": 10,
              "solidity": 0.2
             }
            },
            "type": "barpolar"
           }
          ],
          "carpet": [
           {
            "aaxis": {
             "endlinecolor": "#2a3f5f",
             "gridcolor": "white",
             "linecolor": "white",
             "minorgridcolor": "white",
             "startlinecolor": "#2a3f5f"
            },
            "baxis": {
             "endlinecolor": "#2a3f5f",
             "gridcolor": "white",
             "linecolor": "white",
             "minorgridcolor": "white",
             "startlinecolor": "#2a3f5f"
            },
            "type": "carpet"
           }
          ],
          "choropleth": [
           {
            "colorbar": {
             "outlinewidth": 0,
             "ticks": ""
            },
            "type": "choropleth"
           }
          ],
          "contour": [
           {
            "colorbar": {
             "outlinewidth": 0,
             "ticks": ""
            },
            "colorscale": [
             [
              0,
              "#0d0887"
             ],
             [
              0.1111111111111111,
              "#46039f"
             ],
             [
              0.2222222222222222,
              "#7201a8"
             ],
             [
              0.3333333333333333,
              "#9c179e"
             ],
             [
              0.4444444444444444,
              "#bd3786"
             ],
             [
              0.5555555555555556,
              "#d8576b"
             ],
             [
              0.6666666666666666,
              "#ed7953"
             ],
             [
              0.7777777777777778,
              "#fb9f3a"
             ],
             [
              0.8888888888888888,
              "#fdca26"
             ],
             [
              1,
              "#f0f921"
             ]
            ],
            "type": "contour"
           }
          ],
          "contourcarpet": [
           {
            "colorbar": {
             "outlinewidth": 0,
             "ticks": ""
            },
            "type": "contourcarpet"
           }
          ],
          "heatmap": [
           {
            "colorbar": {
             "outlinewidth": 0,
             "ticks": ""
            },
            "colorscale": [
             [
              0,
              "#0d0887"
             ],
             [
              0.1111111111111111,
              "#46039f"
             ],
             [
              0.2222222222222222,
              "#7201a8"
             ],
             [
              0.3333333333333333,
              "#9c179e"
             ],
             [
              0.4444444444444444,
              "#bd3786"
             ],
             [
              0.5555555555555556,
              "#d8576b"
             ],
             [
              0.6666666666666666,
              "#ed7953"
             ],
             [
              0.7777777777777778,
              "#fb9f3a"
             ],
             [
              0.8888888888888888,
              "#fdca26"
             ],
             [
              1,
              "#f0f921"
             ]
            ],
            "type": "heatmap"
           }
          ],
          "heatmapgl": [
           {
            "colorbar": {
             "outlinewidth": 0,
             "ticks": ""
            },
            "colorscale": [
             [
              0,
              "#0d0887"
             ],
             [
              0.1111111111111111,
              "#46039f"
             ],
             [
              0.2222222222222222,
              "#7201a8"
             ],
             [
              0.3333333333333333,
              "#9c179e"
             ],
             [
              0.4444444444444444,
              "#bd3786"
             ],
             [
              0.5555555555555556,
              "#d8576b"
             ],
             [
              0.6666666666666666,
              "#ed7953"
             ],
             [
              0.7777777777777778,
              "#fb9f3a"
             ],
             [
              0.8888888888888888,
              "#fdca26"
             ],
             [
              1,
              "#f0f921"
             ]
            ],
            "type": "heatmapgl"
           }
          ],
          "histogram": [
           {
            "marker": {
             "pattern": {
              "fillmode": "overlay",
              "size": 10,
              "solidity": 0.2
             }
            },
            "type": "histogram"
           }
          ],
          "histogram2d": [
           {
            "colorbar": {
             "outlinewidth": 0,
             "ticks": ""
            },
            "colorscale": [
             [
              0,
              "#0d0887"
             ],
             [
              0.1111111111111111,
              "#46039f"
             ],
             [
              0.2222222222222222,
              "#7201a8"
             ],
             [
              0.3333333333333333,
              "#9c179e"
             ],
             [
              0.4444444444444444,
              "#bd3786"
             ],
             [
              0.5555555555555556,
              "#d8576b"
             ],
             [
              0.6666666666666666,
              "#ed7953"
             ],
             [
              0.7777777777777778,
              "#fb9f3a"
             ],
             [
              0.8888888888888888,
              "#fdca26"
             ],
             [
              1,
              "#f0f921"
             ]
            ],
            "type": "histogram2d"
           }
          ],
          "histogram2dcontour": [
           {
            "colorbar": {
             "outlinewidth": 0,
             "ticks": ""
            },
            "colorscale": [
             [
              0,
              "#0d0887"
             ],
             [
              0.1111111111111111,
              "#46039f"
             ],
             [
              0.2222222222222222,
              "#7201a8"
             ],
             [
              0.3333333333333333,
              "#9c179e"
             ],
             [
              0.4444444444444444,
              "#bd3786"
             ],
             [
              0.5555555555555556,
              "#d8576b"
             ],
             [
              0.6666666666666666,
              "#ed7953"
             ],
             [
              0.7777777777777778,
              "#fb9f3a"
             ],
             [
              0.8888888888888888,
              "#fdca26"
             ],
             [
              1,
              "#f0f921"
             ]
            ],
            "type": "histogram2dcontour"
           }
          ],
          "mesh3d": [
           {
            "colorbar": {
             "outlinewidth": 0,
             "ticks": ""
            },
            "type": "mesh3d"
           }
          ],
          "parcoords": [
           {
            "line": {
             "colorbar": {
              "outlinewidth": 0,
              "ticks": ""
             }
            },
            "type": "parcoords"
           }
          ],
          "pie": [
           {
            "automargin": true,
            "type": "pie"
           }
          ],
          "scatter": [
           {
            "fillpattern": {
             "fillmode": "overlay",
             "size": 10,
             "solidity": 0.2
            },
            "type": "scatter"
           }
          ],
          "scatter3d": [
           {
            "line": {
             "colorbar": {
              "outlinewidth": 0,
              "ticks": ""
             }
            },
            "marker": {
             "colorbar": {
              "outlinewidth": 0,
              "ticks": ""
             }
            },
            "type": "scatter3d"
           }
          ],
          "scattercarpet": [
           {
            "marker": {
             "colorbar": {
              "outlinewidth": 0,
              "ticks": ""
             }
            },
            "type": "scattercarpet"
           }
          ],
          "scattergeo": [
           {
            "marker": {
             "colorbar": {
              "outlinewidth": 0,
              "ticks": ""
             }
            },
            "type": "scattergeo"
           }
          ],
          "scattergl": [
           {
            "marker": {
             "colorbar": {
              "outlinewidth": 0,
              "ticks": ""
             }
            },
            "type": "scattergl"
           }
          ],
          "scattermapbox": [
           {
            "marker": {
             "colorbar": {
              "outlinewidth": 0,
              "ticks": ""
             }
            },
            "type": "scattermapbox"
           }
          ],
          "scatterpolar": [
           {
            "marker": {
             "colorbar": {
              "outlinewidth": 0,
              "ticks": ""
             }
            },
            "type": "scatterpolar"
           }
          ],
          "scatterpolargl": [
           {
            "marker": {
             "colorbar": {
              "outlinewidth": 0,
              "ticks": ""
             }
            },
            "type": "scatterpolargl"
           }
          ],
          "scatterternary": [
           {
            "marker": {
             "colorbar": {
              "outlinewidth": 0,
              "ticks": ""
             }
            },
            "type": "scatterternary"
           }
          ],
          "surface": [
           {
            "colorbar": {
             "outlinewidth": 0,
             "ticks": ""
            },
            "colorscale": [
             [
              0,
              "#0d0887"
             ],
             [
              0.1111111111111111,
              "#46039f"
             ],
             [
              0.2222222222222222,
              "#7201a8"
             ],
             [
              0.3333333333333333,
              "#9c179e"
             ],
             [
              0.4444444444444444,
              "#bd3786"
             ],
             [
              0.5555555555555556,
              "#d8576b"
             ],
             [
              0.6666666666666666,
              "#ed7953"
             ],
             [
              0.7777777777777778,
              "#fb9f3a"
             ],
             [
              0.8888888888888888,
              "#fdca26"
             ],
             [
              1,
              "#f0f921"
             ]
            ],
            "type": "surface"
           }
          ],
          "table": [
           {
            "cells": {
             "fill": {
              "color": "#EBF0F8"
             },
             "line": {
              "color": "white"
             }
            },
            "header": {
             "fill": {
              "color": "#C8D4E3"
             },
             "line": {
              "color": "white"
             }
            },
            "type": "table"
           }
          ]
         },
         "layout": {
          "annotationdefaults": {
           "arrowcolor": "#2a3f5f",
           "arrowhead": 0,
           "arrowwidth": 1
          },
          "autotypenumbers": "strict",
          "coloraxis": {
           "colorbar": {
            "outlinewidth": 0,
            "ticks": ""
           }
          },
          "colorscale": {
           "diverging": [
            [
             0,
             "#8e0152"
            ],
            [
             0.1,
             "#c51b7d"
            ],
            [
             0.2,
             "#de77ae"
            ],
            [
             0.3,
             "#f1b6da"
            ],
            [
             0.4,
             "#fde0ef"
            ],
            [
             0.5,
             "#f7f7f7"
            ],
            [
             0.6,
             "#e6f5d0"
            ],
            [
             0.7,
             "#b8e186"
            ],
            [
             0.8,
             "#7fbc41"
            ],
            [
             0.9,
             "#4d9221"
            ],
            [
             1,
             "#276419"
            ]
           ],
           "sequential": [
            [
             0,
             "#0d0887"
            ],
            [
             0.1111111111111111,
             "#46039f"
            ],
            [
             0.2222222222222222,
             "#7201a8"
            ],
            [
             0.3333333333333333,
             "#9c179e"
            ],
            [
             0.4444444444444444,
             "#bd3786"
            ],
            [
             0.5555555555555556,
             "#d8576b"
            ],
            [
             0.6666666666666666,
             "#ed7953"
            ],
            [
             0.7777777777777778,
             "#fb9f3a"
            ],
            [
             0.8888888888888888,
             "#fdca26"
            ],
            [
             1,
             "#f0f921"
            ]
           ],
           "sequentialminus": [
            [
             0,
             "#0d0887"
            ],
            [
             0.1111111111111111,
             "#46039f"
            ],
            [
             0.2222222222222222,
             "#7201a8"
            ],
            [
             0.3333333333333333,
             "#9c179e"
            ],
            [
             0.4444444444444444,
             "#bd3786"
            ],
            [
             0.5555555555555556,
             "#d8576b"
            ],
            [
             0.6666666666666666,
             "#ed7953"
            ],
            [
             0.7777777777777778,
             "#fb9f3a"
            ],
            [
             0.8888888888888888,
             "#fdca26"
            ],
            [
             1,
             "#f0f921"
            ]
           ]
          },
          "colorway": [
           "#636efa",
           "#EF553B",
           "#00cc96",
           "#ab63fa",
           "#FFA15A",
           "#19d3f3",
           "#FF6692",
           "#B6E880",
           "#FF97FF",
           "#FECB52"
          ],
          "font": {
           "color": "#2a3f5f"
          },
          "geo": {
           "bgcolor": "white",
           "lakecolor": "white",
           "landcolor": "#E5ECF6",
           "showlakes": true,
           "showland": true,
           "subunitcolor": "white"
          },
          "hoverlabel": {
           "align": "left"
          },
          "hovermode": "closest",
          "mapbox": {
           "style": "light"
          },
          "paper_bgcolor": "white",
          "plot_bgcolor": "#E5ECF6",
          "polar": {
           "angularaxis": {
            "gridcolor": "white",
            "linecolor": "white",
            "ticks": ""
           },
           "bgcolor": "#E5ECF6",
           "radialaxis": {
            "gridcolor": "white",
            "linecolor": "white",
            "ticks": ""
           }
          },
          "scene": {
           "xaxis": {
            "backgroundcolor": "#E5ECF6",
            "gridcolor": "white",
            "gridwidth": 2,
            "linecolor": "white",
            "showbackground": true,
            "ticks": "",
            "zerolinecolor": "white"
           },
           "yaxis": {
            "backgroundcolor": "#E5ECF6",
            "gridcolor": "white",
            "gridwidth": 2,
            "linecolor": "white",
            "showbackground": true,
            "ticks": "",
            "zerolinecolor": "white"
           },
           "zaxis": {
            "backgroundcolor": "#E5ECF6",
            "gridcolor": "white",
            "gridwidth": 2,
            "linecolor": "white",
            "showbackground": true,
            "ticks": "",
            "zerolinecolor": "white"
           }
          },
          "shapedefaults": {
           "line": {
            "color": "#2a3f5f"
           }
          },
          "ternary": {
           "aaxis": {
            "gridcolor": "white",
            "linecolor": "white",
            "ticks": ""
           },
           "baxis": {
            "gridcolor": "white",
            "linecolor": "white",
            "ticks": ""
           },
           "bgcolor": "#E5ECF6",
           "caxis": {
            "gridcolor": "white",
            "linecolor": "white",
            "ticks": ""
           }
          },
          "title": {
           "x": 0.05
          },
          "xaxis": {
           "automargin": true,
           "gridcolor": "white",
           "linecolor": "white",
           "ticks": "",
           "title": {
            "standoff": 15
           },
           "zerolinecolor": "white",
           "zerolinewidth": 2
          },
          "yaxis": {
           "automargin": true,
           "gridcolor": "white",
           "linecolor": "white",
           "ticks": "",
           "title": {
            "standoff": 15
           },
           "zerolinecolor": "white",
           "zerolinewidth": 2
          }
         }
        },
        "title": {
         "text": "Ground Truth Feature Cosine Similarity"
        },
        "width": 1000,
        "xaxis": {
         "showticklabels": false,
         "title": {
          "text": "col (20)"
         }
        },
        "yaxis": {
         "autorange": "reversed",
         "showticklabels": false,
         "title": {
          "text": "row (20)"
         }
        }
       }
      }
     },
     "metadata": {},
     "output_type": "display_data"
    },
    {
     "data": {
      "application/vnd.plotly.v1+json": {
       "config": {
        "plotlyServerURL": "https://plot.ly"
       },
       "data": [
        {
         "colorscale": [
          [
           0,
           "#440154"
          ],
          [
           0.1111111111111111,
           "#482878"
          ],
          [
           0.2222222222222222,
           "#3e4989"
          ],
          [
           0.3333333333333333,
           "#31688e"
          ],
          [
           0.4444444444444444,
           "#26828e"
          ],
          [
           0.5555555555555556,
           "#1f9e89"
          ],
          [
           0.6666666666666666,
           "#35b779"
          ],
          [
           0.7777777777777778,
           "#6ece58"
          ],
          [
           0.8888888888888888,
           "#b5de2b"
          ],
          [
           1,
           "#fde725"
          ]
         ],
         "type": "heatmap",
         "z": [
          [
           0.9444606304168701,
           0.18041695654392242,
           0.186486154794693,
           0.20037512481212616,
           -0.01244725938886404,
           -0.001523778890259564,
           0.007040069438517094,
           -0.005185424350202084,
           -0.007201455533504486,
           -0.002809734782204032,
           -0.0008033781195990741,
           -0.0043354397639632225,
           0.0016236500814557076,
           -0.004995650611817837,
           -0.0006535145221278071,
           -0.0015958193689584732,
           -0.011414598673582077,
           -0.0005851097521372139,
           -0.005404805764555931,
           -0.003612746251747012
          ],
          [
           -0.07345150411128998,
           0.937710702419281,
           -0.2331141084432602,
           -0.24038119614124298,
           0.007892556488513947,
           -0.012609995901584625,
           -0.013466952368617058,
           -0.001787855289876461,
           0.0037621401716023684,
           -0.013378472067415714,
           0.008143303915858269,
           -0.008824720978736877,
           -0.017793092876672745,
           -0.016347605735063553,
           -0.023137085139751434,
           -0.02033415250480175,
           -0.003772678319364786,
           -0.020702147856354713,
           -0.011393466964364052,
           -0.018162626773118973
          ],
          [
           -0.08845575153827667,
           -0.21658121049404144,
           0.9422193169593811,
           -0.23443208634853363,
           0.008589280769228935,
           -0.007304088678210974,
           -0.0033811761531978846,
           -0.002048943657428026,
           0.0037401090376079082,
           -0.009895510971546173,
           -0.0033109737560153008,
           -0.0013438244350254536,
           -0.017730172723531723,
           -0.017437702044844627,
           -0.023541558533906937,
           -0.02040962316095829,
           -0.0032810429111123085,
           -0.01886744610965252,
           -0.010414938442409039,
           -0.01415726076811552
          ],
          [
           -0.08974718302488327,
           -0.24157217144966125,
           -0.24392908811569214,
           0.9332373142242432,
           0.00563806900754571,
           -0.004729925654828548,
           -0.011261899024248123,
           0.0059648496098816395,
           0.008489282801747322,
           -0.014986438676714897,
           -0.010870536789298058,
           -0.008406223729252815,
           -0.0197785422205925,
           -0.015267579816281796,
           -0.022449711337685585,
           -0.020048031583428383,
           -0.0006281272508203983,
           -0.023035522550344467,
           -0.009700369089841843,
           -0.017245223745703697
          ],
          [
           -0.009376270696520805,
           0.0005065456498414278,
           0.0016407413640990853,
           0.0001877754257293418,
           0.9526478052139282,
           0.15971679985523224,
           0.18574348092079163,
           0.17948448657989502,
           -0.00019937651813961565,
           0.008331329561769962,
           0.004767177626490593,
           -0.005275847390294075,
           -0.0005174243706278503,
           0.0013477259781211615,
           0.00034999442868866026,
           0.00013266074529383332,
           -0.001832035486586392,
           -0.004274018108844757,
           0.0006462736637331545,
           -0.0014957210514694452
          ],
          [
           -0.014266235753893852,
           -0.019484443590044975,
           -0.008762034587562084,
           -0.004884412977844477,
           -0.05306907370686531,
           0.9322851300239563,
           -0.2488548755645752,
           -0.24466121196746826,
           -0.0015045872423797846,
           -0.0360603854060173,
           -0.011141391471028328,
           -0.011881794780492783,
           -0.020507555454969406,
           -0.025502385571599007,
           -0.025542093440890312,
           -0.02679353579878807,
           -0.012921284884214401,
           -0.021576866507530212,
           -0.019012590870261192,
           -0.02352239191532135
          ],
          [
           -0.007728648371994495,
           -0.020875336602330208,
           -0.016832385212183,
           -0.019106119871139526,
           -0.08403323590755463,
           -0.2267104834318161,
           0.9331926107406616,
           -0.25484710931777954,
           -0.0009754006168805063,
           -0.027629654854536057,
           -0.009973046369850636,
           -0.012266579084098339,
           -0.01907310262322426,
           -0.023637747392058372,
           -0.023933004587888718,
           -0.02577226422727108,
           -0.012511941604316235,
           -0.021593675017356873,
           -0.017768055200576782,
           -0.022118091583251953
          ],
          [
           -0.012651938945055008,
           -0.007354411296546459,
           -0.0033058319240808487,
           0.003037281334400177,
           -0.10374214500188828,
           -0.20444557070732117,
           -0.2361859679222107,
           0.9422074556350708,
           -0.0038675335235893726,
           -0.017288710922002792,
           -0.0013409076491370797,
           -0.010574433952569962,
           -0.018562955781817436,
           -0.02247568406164646,
           -0.02196562848985195,
           -0.023008687421679497,
           -0.010729496367275715,
           -0.02225579135119915,
           -0.017157504335045815,
           -0.021732769906520844
          ],
          [
           -0.00485558807849884,
           0.00227138283662498,
           0.0033194851130247116,
           -0.0005353016895242035,
           0.0007519638747908175,
           0.012884968891739845,
           -0.002976406831294298,
           -0.001231405301950872,
           0.9475278854370117,
           0.1892038881778717,
           0.18752816319465637,
           0.17602752149105072,
           -0.0009076247806660831,
           -0.00004779111986863427,
           0.0038582931738346815,
           0.002028432209044695,
           0.0010962544474750757,
           -0.0012490435037761927,
           -0.0003179000341333449,
           0.0006644593668170273
          ],
          [
           -0.023082459345459938,
           -0.006432345602661371,
           -0.0024240186903625727,
           -0.005108574405312538,
           0.0001932536397362128,
           -0.0368356890976429,
           -0.0017724543577060103,
           -0.019566724076867104,
           -0.08890625089406967,
           0.9350247383117676,
           -0.24309507012367249,
           -0.22940678894519806,
           -0.018620586022734642,
           -0.022971495985984802,
           -0.028640246018767357,
           -0.02478860132396221,
           -0.014320900663733482,
           -0.021627327427268028,
           -0.013992957770824432,
           -0.023974191397428513
          ],
          [
           -0.015623858198523521,
           -0.00979605596512556,
           -0.017192477360367775,
           -0.003014578018337488,
           -0.001694972743280232,
           -0.030542174354195595,
           -0.008987737819552422,
           -0.00829375721514225,
           -0.0901048481464386,
           -0.24511627852916718,
           0.935340404510498,
           -0.22682331502437592,
           -0.01732894591987133,
           -0.02219746820628643,
           -0.027158914133906364,
           -0.026111360639333725,
           -0.01668722555041313,
           -0.02161114476621151,
           -0.012157859280705452,
           -0.025554710999131203
          ],
          [
           -0.01883220486342907,
           -0.013050718232989311,
           -0.019330507144331932,
           -0.014161859638988972,
           -0.0027834675274789333,
           -0.029268059879541397,
           -0.005748627707362175,
           -0.006929949391633272,
           -0.0745694562792778,
           -0.25037723779678345,
           -0.24291621148586273,
           0.9306087493896484,
           -0.021227961406111717,
           -0.02528371475636959,
           -0.029650110751390457,
           -0.028157290071249008,
           -0.017040472477674484,
           -0.02297440730035305,
           -0.016083087772130966,
           -0.028744254261255264
          ],
          [
           -0.02038164809346199,
           -0.016548775136470795,
           -0.00879437942057848,
           0.003066484583541751,
           -0.006945149973034859,
           0.0001530822046333924,
           -0.00740733603015542,
           -0.0050879111513495445,
           -0.004522489383816719,
           -0.013337959535419941,
           -0.010971015319228172,
           0.00937007274478674,
           0.9984294772148132,
           -0.0164339542388916,
           -0.016414785757660866,
           -0.020039087161421776,
           -0.012545047327876091,
           -0.015739483758807182,
           -0.015399966388940811,
           -0.015615666285157204
          ],
          [
           -0.01969878561794758,
           -0.009668317623436451,
           -0.004953304771333933,
           -0.0008819529903121293,
           -0.005819943733513355,
           -0.004549370147287846,
           -0.001070284633897245,
           -0.004617874510586262,
           -0.005032102577388287,
           -0.0013696302194148302,
           -0.003497578902170062,
           -0.001983801368623972,
           -0.01558277290314436,
           0.9987415075302124,
           -0.018941372632980347,
           -0.01850268989801407,
           -0.011639688163995743,
           -0.01730349287390709,
           -0.015985021367669106,
           -0.015938637778162956
          ],
          [
           -0.019385505467653275,
           -0.01150170061737299,
           -0.011970406398177147,
           0.002083269879221916,
           -0.005091926082968712,
           -0.0016343881143257022,
           -0.00698555214330554,
           -0.00921247061342001,
           -0.006482874508947134,
           0.0026141207199543715,
           -0.008320341818034649,
           -0.00015012315998319536,
           -0.016652725636959076,
           -0.013202783651649952,
           0.998680830001831,
           -0.01777135767042637,
           -0.01311534270644188,
           -0.017140086740255356,
           -0.015299198217689991,
           -0.015276310034096241
          ],
          [
           -0.021915467455983162,
           -0.0122159942984581,
           -0.011232523247599602,
           0.0010614270577207208,
           -0.005611187778413296,
           -0.012126553803682327,
           0.0042609162628650665,
           -0.010473008267581463,
           -0.00406432431191206,
           0.0013163590338081121,
           -0.011073826812207699,
           -0.009517809376120567,
           -0.01790081150829792,
           -0.01963006891310215,
           -0.02008705958724022,
           0.9982811212539673,
           -0.014091785997152328,
           -0.01651047170162201,
           -0.016406644135713577,
           -0.017045162618160248
          ],
          [
           -0.021068332716822624,
           -0.003984302282333374,
           -0.004165417980402708,
           -0.009871887043118477,
           -0.00774561008438468,
           0.0003597324248403311,
           0.003643726697191596,
           -0.007148751523345709,
           -0.005694989114999771,
           -0.007942095398902893,
           0.007364142686128616,
           0.003467719303444028,
           -0.005709990859031677,
           0.002173595828935504,
           -0.0050372956320643425,
           -0.004318135790526867,
           0.9993906021118164,
           -0.01109408214688301,
           -0.009483521804213524,
           -0.007961582392454147
          ],
          [
           -0.020217837765812874,
           -0.009739178232848644,
           -0.008668960072100163,
           -0.003184520872309804,
           -0.006162862293422222,
           0.003990808501839638,
           -0.0013245681766420603,
           -0.0077965897507965565,
           -0.0043820408172905445,
           -0.0033365606795996428,
           -0.002197063760831952,
           -0.007393438369035721,
           -0.015697304159402847,
           -0.015285198576748371,
           -0.01602032594382763,
           -0.016707591712474823,
           -0.012851382605731487,
           0.9987901449203491,
           -0.014597594738006592,
           -0.0151382926851511
          ],
          [
           -0.023796584457159042,
           -0.012123260647058487,
           0.0018592712003737688,
           -0.0014057548251003027,
           -0.007461699191480875,
           -0.007492829114198685,
           -0.004756120033562183,
           0.003481414169073105,
           -0.007343280129134655,
           -0.005884330719709396,
           -0.004656856879591942,
           0.010014577768743038,
           -0.01526554487645626,
           -0.001243684208020568,
           -0.00873580016195774,
           -0.011574714444577694,
           -0.013131429441273212,
           -0.0055679758079349995,
           0.9990898966789246,
           -0.009764449670910835
          ],
          [
           -0.020706433802843094,
           -0.016934525221586227,
           -0.013410554267466068,
           0.0022046142257750034,
           -0.005853829439729452,
           -0.009134285151958466,
           -0.0018814776558429003,
           -0.005718205124139786,
           -0.005535098258405924,
           -0.0060795024037361145,
           -0.004155585542321205,
           -0.0037623206153512,
           -0.018166834488511086,
           -0.018935369327664375,
           -0.02115863747894764,
           -0.020395483821630478,
           -0.014007207937538624,
           -0.020166901871562004,
           -0.016701113432645798,
           0.99820476770401
          ]
         ]
        }
       ],
       "layout": {
        "height": 600,
        "template": {
         "data": {
          "bar": [
           {
            "error_x": {
             "color": "#2a3f5f"
            },
            "error_y": {
             "color": "#2a3f5f"
            },
            "marker": {
             "line": {
              "color": "#E5ECF6",
              "width": 0.5
             },
             "pattern": {
              "fillmode": "overlay",
              "size": 10,
              "solidity": 0.2
             }
            },
            "type": "bar"
           }
          ],
          "barpolar": [
           {
            "marker": {
             "line": {
              "color": "#E5ECF6",
              "width": 0.5
             },
             "pattern": {
              "fillmode": "overlay",
              "size": 10,
              "solidity": 0.2
             }
            },
            "type": "barpolar"
           }
          ],
          "carpet": [
           {
            "aaxis": {
             "endlinecolor": "#2a3f5f",
             "gridcolor": "white",
             "linecolor": "white",
             "minorgridcolor": "white",
             "startlinecolor": "#2a3f5f"
            },
            "baxis": {
             "endlinecolor": "#2a3f5f",
             "gridcolor": "white",
             "linecolor": "white",
             "minorgridcolor": "white",
             "startlinecolor": "#2a3f5f"
            },
            "type": "carpet"
           }
          ],
          "choropleth": [
           {
            "colorbar": {
             "outlinewidth": 0,
             "ticks": ""
            },
            "type": "choropleth"
           }
          ],
          "contour": [
           {
            "colorbar": {
             "outlinewidth": 0,
             "ticks": ""
            },
            "colorscale": [
             [
              0,
              "#0d0887"
             ],
             [
              0.1111111111111111,
              "#46039f"
             ],
             [
              0.2222222222222222,
              "#7201a8"
             ],
             [
              0.3333333333333333,
              "#9c179e"
             ],
             [
              0.4444444444444444,
              "#bd3786"
             ],
             [
              0.5555555555555556,
              "#d8576b"
             ],
             [
              0.6666666666666666,
              "#ed7953"
             ],
             [
              0.7777777777777778,
              "#fb9f3a"
             ],
             [
              0.8888888888888888,
              "#fdca26"
             ],
             [
              1,
              "#f0f921"
             ]
            ],
            "type": "contour"
           }
          ],
          "contourcarpet": [
           {
            "colorbar": {
             "outlinewidth": 0,
             "ticks": ""
            },
            "type": "contourcarpet"
           }
          ],
          "heatmap": [
           {
            "colorbar": {
             "outlinewidth": 0,
             "ticks": ""
            },
            "colorscale": [
             [
              0,
              "#0d0887"
             ],
             [
              0.1111111111111111,
              "#46039f"
             ],
             [
              0.2222222222222222,
              "#7201a8"
             ],
             [
              0.3333333333333333,
              "#9c179e"
             ],
             [
              0.4444444444444444,
              "#bd3786"
             ],
             [
              0.5555555555555556,
              "#d8576b"
             ],
             [
              0.6666666666666666,
              "#ed7953"
             ],
             [
              0.7777777777777778,
              "#fb9f3a"
             ],
             [
              0.8888888888888888,
              "#fdca26"
             ],
             [
              1,
              "#f0f921"
             ]
            ],
            "type": "heatmap"
           }
          ],
          "heatmapgl": [
           {
            "colorbar": {
             "outlinewidth": 0,
             "ticks": ""
            },
            "colorscale": [
             [
              0,
              "#0d0887"
             ],
             [
              0.1111111111111111,
              "#46039f"
             ],
             [
              0.2222222222222222,
              "#7201a8"
             ],
             [
              0.3333333333333333,
              "#9c179e"
             ],
             [
              0.4444444444444444,
              "#bd3786"
             ],
             [
              0.5555555555555556,
              "#d8576b"
             ],
             [
              0.6666666666666666,
              "#ed7953"
             ],
             [
              0.7777777777777778,
              "#fb9f3a"
             ],
             [
              0.8888888888888888,
              "#fdca26"
             ],
             [
              1,
              "#f0f921"
             ]
            ],
            "type": "heatmapgl"
           }
          ],
          "histogram": [
           {
            "marker": {
             "pattern": {
              "fillmode": "overlay",
              "size": 10,
              "solidity": 0.2
             }
            },
            "type": "histogram"
           }
          ],
          "histogram2d": [
           {
            "colorbar": {
             "outlinewidth": 0,
             "ticks": ""
            },
            "colorscale": [
             [
              0,
              "#0d0887"
             ],
             [
              0.1111111111111111,
              "#46039f"
             ],
             [
              0.2222222222222222,
              "#7201a8"
             ],
             [
              0.3333333333333333,
              "#9c179e"
             ],
             [
              0.4444444444444444,
              "#bd3786"
             ],
             [
              0.5555555555555556,
              "#d8576b"
             ],
             [
              0.6666666666666666,
              "#ed7953"
             ],
             [
              0.7777777777777778,
              "#fb9f3a"
             ],
             [
              0.8888888888888888,
              "#fdca26"
             ],
             [
              1,
              "#f0f921"
             ]
            ],
            "type": "histogram2d"
           }
          ],
          "histogram2dcontour": [
           {
            "colorbar": {
             "outlinewidth": 0,
             "ticks": ""
            },
            "colorscale": [
             [
              0,
              "#0d0887"
             ],
             [
              0.1111111111111111,
              "#46039f"
             ],
             [
              0.2222222222222222,
              "#7201a8"
             ],
             [
              0.3333333333333333,
              "#9c179e"
             ],
             [
              0.4444444444444444,
              "#bd3786"
             ],
             [
              0.5555555555555556,
              "#d8576b"
             ],
             [
              0.6666666666666666,
              "#ed7953"
             ],
             [
              0.7777777777777778,
              "#fb9f3a"
             ],
             [
              0.8888888888888888,
              "#fdca26"
             ],
             [
              1,
              "#f0f921"
             ]
            ],
            "type": "histogram2dcontour"
           }
          ],
          "mesh3d": [
           {
            "colorbar": {
             "outlinewidth": 0,
             "ticks": ""
            },
            "type": "mesh3d"
           }
          ],
          "parcoords": [
           {
            "line": {
             "colorbar": {
              "outlinewidth": 0,
              "ticks": ""
             }
            },
            "type": "parcoords"
           }
          ],
          "pie": [
           {
            "automargin": true,
            "type": "pie"
           }
          ],
          "scatter": [
           {
            "fillpattern": {
             "fillmode": "overlay",
             "size": 10,
             "solidity": 0.2
            },
            "type": "scatter"
           }
          ],
          "scatter3d": [
           {
            "line": {
             "colorbar": {
              "outlinewidth": 0,
              "ticks": ""
             }
            },
            "marker": {
             "colorbar": {
              "outlinewidth": 0,
              "ticks": ""
             }
            },
            "type": "scatter3d"
           }
          ],
          "scattercarpet": [
           {
            "marker": {
             "colorbar": {
              "outlinewidth": 0,
              "ticks": ""
             }
            },
            "type": "scattercarpet"
           }
          ],
          "scattergeo": [
           {
            "marker": {
             "colorbar": {
              "outlinewidth": 0,
              "ticks": ""
             }
            },
            "type": "scattergeo"
           }
          ],
          "scattergl": [
           {
            "marker": {
             "colorbar": {
              "outlinewidth": 0,
              "ticks": ""
             }
            },
            "type": "scattergl"
           }
          ],
          "scattermapbox": [
           {
            "marker": {
             "colorbar": {
              "outlinewidth": 0,
              "ticks": ""
             }
            },
            "type": "scattermapbox"
           }
          ],
          "scatterpolar": [
           {
            "marker": {
             "colorbar": {
              "outlinewidth": 0,
              "ticks": ""
             }
            },
            "type": "scatterpolar"
           }
          ],
          "scatterpolargl": [
           {
            "marker": {
             "colorbar": {
              "outlinewidth": 0,
              "ticks": ""
             }
            },
            "type": "scatterpolargl"
           }
          ],
          "scatterternary": [
           {
            "marker": {
             "colorbar": {
              "outlinewidth": 0,
              "ticks": ""
             }
            },
            "type": "scatterternary"
           }
          ],
          "surface": [
           {
            "colorbar": {
             "outlinewidth": 0,
             "ticks": ""
            },
            "colorscale": [
             [
              0,
              "#0d0887"
             ],
             [
              0.1111111111111111,
              "#46039f"
             ],
             [
              0.2222222222222222,
              "#7201a8"
             ],
             [
              0.3333333333333333,
              "#9c179e"
             ],
             [
              0.4444444444444444,
              "#bd3786"
             ],
             [
              0.5555555555555556,
              "#d8576b"
             ],
             [
              0.6666666666666666,
              "#ed7953"
             ],
             [
              0.7777777777777778,
              "#fb9f3a"
             ],
             [
              0.8888888888888888,
              "#fdca26"
             ],
             [
              1,
              "#f0f921"
             ]
            ],
            "type": "surface"
           }
          ],
          "table": [
           {
            "cells": {
             "fill": {
              "color": "#EBF0F8"
             },
             "line": {
              "color": "white"
             }
            },
            "header": {
             "fill": {
              "color": "#C8D4E3"
             },
             "line": {
              "color": "white"
             }
            },
            "type": "table"
           }
          ]
         },
         "layout": {
          "annotationdefaults": {
           "arrowcolor": "#2a3f5f",
           "arrowhead": 0,
           "arrowwidth": 1
          },
          "autotypenumbers": "strict",
          "coloraxis": {
           "colorbar": {
            "outlinewidth": 0,
            "ticks": ""
           }
          },
          "colorscale": {
           "diverging": [
            [
             0,
             "#8e0152"
            ],
            [
             0.1,
             "#c51b7d"
            ],
            [
             0.2,
             "#de77ae"
            ],
            [
             0.3,
             "#f1b6da"
            ],
            [
             0.4,
             "#fde0ef"
            ],
            [
             0.5,
             "#f7f7f7"
            ],
            [
             0.6,
             "#e6f5d0"
            ],
            [
             0.7,
             "#b8e186"
            ],
            [
             0.8,
             "#7fbc41"
            ],
            [
             0.9,
             "#4d9221"
            ],
            [
             1,
             "#276419"
            ]
           ],
           "sequential": [
            [
             0,
             "#0d0887"
            ],
            [
             0.1111111111111111,
             "#46039f"
            ],
            [
             0.2222222222222222,
             "#7201a8"
            ],
            [
             0.3333333333333333,
             "#9c179e"
            ],
            [
             0.4444444444444444,
             "#bd3786"
            ],
            [
             0.5555555555555556,
             "#d8576b"
            ],
            [
             0.6666666666666666,
             "#ed7953"
            ],
            [
             0.7777777777777778,
             "#fb9f3a"
            ],
            [
             0.8888888888888888,
             "#fdca26"
            ],
            [
             1,
             "#f0f921"
            ]
           ],
           "sequentialminus": [
            [
             0,
             "#0d0887"
            ],
            [
             0.1111111111111111,
             "#46039f"
            ],
            [
             0.2222222222222222,
             "#7201a8"
            ],
            [
             0.3333333333333333,
             "#9c179e"
            ],
            [
             0.4444444444444444,
             "#bd3786"
            ],
            [
             0.5555555555555556,
             "#d8576b"
            ],
            [
             0.6666666666666666,
             "#ed7953"
            ],
            [
             0.7777777777777778,
             "#fb9f3a"
            ],
            [
             0.8888888888888888,
             "#fdca26"
            ],
            [
             1,
             "#f0f921"
            ]
           ]
          },
          "colorway": [
           "#636efa",
           "#EF553B",
           "#00cc96",
           "#ab63fa",
           "#FFA15A",
           "#19d3f3",
           "#FF6692",
           "#B6E880",
           "#FF97FF",
           "#FECB52"
          ],
          "font": {
           "color": "#2a3f5f"
          },
          "geo": {
           "bgcolor": "white",
           "lakecolor": "white",
           "landcolor": "#E5ECF6",
           "showlakes": true,
           "showland": true,
           "subunitcolor": "white"
          },
          "hoverlabel": {
           "align": "left"
          },
          "hovermode": "closest",
          "mapbox": {
           "style": "light"
          },
          "paper_bgcolor": "white",
          "plot_bgcolor": "#E5ECF6",
          "polar": {
           "angularaxis": {
            "gridcolor": "white",
            "linecolor": "white",
            "ticks": ""
           },
           "bgcolor": "#E5ECF6",
           "radialaxis": {
            "gridcolor": "white",
            "linecolor": "white",
            "ticks": ""
           }
          },
          "scene": {
           "xaxis": {
            "backgroundcolor": "#E5ECF6",
            "gridcolor": "white",
            "gridwidth": 2,
            "linecolor": "white",
            "showbackground": true,
            "ticks": "",
            "zerolinecolor": "white"
           },
           "yaxis": {
            "backgroundcolor": "#E5ECF6",
            "gridcolor": "white",
            "gridwidth": 2,
            "linecolor": "white",
            "showbackground": true,
            "ticks": "",
            "zerolinecolor": "white"
           },
           "zaxis": {
            "backgroundcolor": "#E5ECF6",
            "gridcolor": "white",
            "gridwidth": 2,
            "linecolor": "white",
            "showbackground": true,
            "ticks": "",
            "zerolinecolor": "white"
           }
          },
          "shapedefaults": {
           "line": {
            "color": "#2a3f5f"
           }
          },
          "ternary": {
           "aaxis": {
            "gridcolor": "white",
            "linecolor": "white",
            "ticks": ""
           },
           "baxis": {
            "gridcolor": "white",
            "linecolor": "white",
            "ticks": ""
           },
           "bgcolor": "#E5ECF6",
           "caxis": {
            "gridcolor": "white",
            "linecolor": "white",
            "ticks": ""
           }
          },
          "title": {
           "x": 0.05
          },
          "xaxis": {
           "automargin": true,
           "gridcolor": "white",
           "linecolor": "white",
           "ticks": "",
           "title": {
            "standoff": 15
           },
           "zerolinecolor": "white",
           "zerolinewidth": 2
          },
          "yaxis": {
           "automargin": true,
           "gridcolor": "white",
           "linecolor": "white",
           "ticks": "",
           "title": {
            "standoff": 15
           },
           "zerolinecolor": "white",
           "zerolinewidth": 2
          }
         }
        },
        "title": {
         "text": "Matryoshka Decoder, Ground-Truth Cosine Similarity"
        },
        "width": 1000,
        "xaxis": {
         "showticklabels": false,
         "title": {
          "text": "True Feature (20)"
         }
        },
        "yaxis": {
         "autorange": "reversed",
         "showticklabels": false,
         "title": {
          "text": "Matryoshka (20)"
         }
        }
       }
      }
     },
     "metadata": {},
     "output_type": "display_data"
    },
    {
     "data": {
      "application/vnd.plotly.v1+json": {
       "config": {
        "plotlyServerURL": "https://plot.ly"
       },
       "data": [
        {
         "colorscale": [
          [
           0,
           "#440154"
          ],
          [
           0.1111111111111111,
           "#482878"
          ],
          [
           0.2222222222222222,
           "#3e4989"
          ],
          [
           0.3333333333333333,
           "#31688e"
          ],
          [
           0.4444444444444444,
           "#26828e"
          ],
          [
           0.5555555555555556,
           "#1f9e89"
          ],
          [
           0.6666666666666666,
           "#35b779"
          ],
          [
           0.7777777777777778,
           "#6ece58"
          ],
          [
           0.8888888888888888,
           "#b5de2b"
          ],
          [
           1,
           "#fde725"
          ]
         ],
         "type": "heatmap",
         "z": [
          [
           0.9999950528144836,
           0.0008173522655852139,
           0.00011047820589737967,
           -0.0006384950247593224,
           -0.00005371488441596739,
           -0.0008372124866582453,
           0.00027534129912965,
           -0.0006824718439020216,
           -0.0003267541469540447,
           0.000048369627620559186,
           -0.0003646798140835017,
           -0.0003792811476159841,
           0.00023623695597052574,
           -0.0000825138995423913,
           0.00037637134664691985,
           0.0018479842692613602,
           -0.0016655877698212862,
           0.0003092418482992798,
           -0.00072982267010957,
           -0.0002105747116729617
          ],
          [
           0.6897201538085938,
           0.724073588848114,
           -0.000029026195988990366,
           -0.00043902519973926246,
           0.0009157935273833573,
           -0.00030644290382042527,
           -0.00004677475226344541,
           -0.00003198486228939146,
           0.0008602718589827418,
           -0.00008268884994322434,
           -0.00017155219393316656,
           0.0007774303085170686,
           -0.0002819487708620727,
           0.0005154117825441062,
           0.00044431621790863574,
           0.00006301440589595586,
           0.00010813897097250447,
           0.00020281263277865946,
           0.0005725480150431395,
           0.00006455890252254903
          ],
          [
           0.6786760091781616,
           0.0008164123864844441,
           0.7344215512275696,
           -0.00008471635374007747,
           -0.00029834805172868073,
           -0.000732575252186507,
           0.0007775864796712995,
           -0.0013728421181440353,
           0.0012149736285209656,
           -0.0011941358679905534,
           0.0006617878680117428,
           0.0004147907311562449,
           0.0008848190191201866,
           -0.00017340746126137674,
           0.0003866019833367318,
           0.00001118633463192964,
           -0.0023080825340002775,
           0.00041033976594917476,
           -0.0030636515002697706,
           0.0009645425598137081
          ],
          [
           0.7057790756225586,
           0.0008495974470861256,
           0.0006152611458674073,
           0.7084279656410217,
           -0.000066622334998101,
           0.0001337670546490699,
           0.0010017938911914825,
           0.000186395482160151,
           -0.000461972871562466,
           0.00038515188498422503,
           0.0009098965674638748,
           -0.0004739344003610313,
           0.0006215100293047726,
           -0.00061058159917593,
           0.000561091466806829,
           0.0008083019638434052,
           -0.00033522272133268416,
           -0.000412434310419485,
           -0.0005309694679453969,
           0.00044157018419355154
          ],
          [
           0.00042755910544656217,
           0.0008789248531684279,
           0.0002246601798105985,
           -0.001124770031310618,
           0.9999956488609314,
           -0.0005211384850554168,
           -0.0004149723972659558,
           -0.0005811997689306736,
           0.0006385214510373771,
           -0.000482547766296193,
           -0.0003470584633760154,
           0.00022291482309810817,
           0.0012378302635625005,
           -0.00019258949032519013,
           -0.00013540481450036168,
           0.0002973571827169508,
           -0.00149444374255836,
           0.0005707138334400952,
           0.0006372438510879874,
           -0.00034637225326150656
          ],
          [
           0.00012201315257698298,
           0.000041878080082824454,
           -0.00019935988530050963,
           -0.0002509415789972991,
           0.7391311526298523,
           0.6735593676567078,
           -0.0001435964513802901,
           -0.0006383739528246224,
           0.0002645857457537204,
           0.00011733068822650239,
           -0.0002552205987740308,
           0.0005741450586356223,
           0.0004096448246855289,
           -0.000141078548040241,
           -0.00025180159718729556,
           0.0005163396126590669,
           -0.000266300980001688,
           -0.0002879168023355305,
           -0.0010073641315102577,
           0.00033951844670809805
          ],
          [
           0.00007649443432455882,
           0.000559635111130774,
           0.00012007320765405893,
           -0.0006336064543575048,
           0.7316142320632935,
           -0.0003865389444399625,
           0.6817164421081543,
           -0.00021394599752966315,
           0.00003154421938234009,
           -0.0001686628529569134,
           -0.00042146112537011504,
           0.00009545786451781169,
           0.00009495129779679701,
           -0.00015751154569443315,
           0.00020210962975397706,
           0.0010502281365916133,
           -0.00007226637535495684,
           0.000447435217211023,
           0.00010334066610084847,
           -0.0008603610913269222
          ],
          [
           -0.0005768858827650547,
           -0.00031030704849399626,
           0.000143584402394481,
           0.00015295643243007362,
           0.6944177150726318,
           -0.000197323810425587,
           0.0003259399672970176,
           0.7195628881454468,
           0.0001949739089468494,
           0.0003052557585760951,
           0.00025718388496898115,
           0.00015766570868436247,
           -0.0007621208787895739,
           -0.000490216538310051,
           0.00015849767078179866,
           0.0015696821501478553,
           0.0000712933688191697,
           -0.0006210818537510931,
           0.0028725778684020042,
           0.00027377312653698027
          ],
          [
           -0.002570572542026639,
           -0.0009790899930521846,
           0.00016612485342193395,
           -0.001954228850081563,
           -0.0002403302351012826,
           -0.00019486855308059603,
           -0.0005296360468491912,
           -0.001091214595362544,
           0.9999901056289673,
           -0.0007702898583374918,
           0.00023367935500573367,
           0.0012106855865567923,
           0.0005569864879362285,
           0.00010672651114873588,
           -0.000739718263503164,
           -0.0001795329008018598,
           -0.00029380308114923537,
           0.0017822419758886099,
           -0.0004482914519030601,
           0.00029948115115985274
          ],
          [
           0.00017962476704269648,
           0.0005231507821008563,
           -0.00023021794913802296,
           -0.000008465203791274689,
           0.001553569920361042,
           0.0008180615259334445,
           0.00005704852446797304,
           -0.00000269433712674072,
           0.6999320387840271,
           0.7142062187194824,
           0.0001995283382711932,
           0.00015765937860123813,
           -0.00019863186753354967,
           -0.00041763181798160076,
           0.0001437018800061196,
           -0.0006631140131503344,
           -0.00006226351979421452,
           0.0003315289504826069,
           -0.00045400788076221943,
           -0.00014866773562971503
          ],
          [
           0.0011551217176020145,
           0.001511680311523378,
           0.000923384097404778,
           -0.001114307320676744,
           0.001111361081711948,
           -0.0001857161842053756,
           0.0002134341630153358,
           0.00008541769784642383,
           0.7034128308296204,
           -0.0006143841310404241,
           0.7107725739479065,
           -0.0005062991986051202,
           0.00001858462201198563,
           -0.00042876636143773794,
           0.0009457413689233363,
           0.0018252432346343994,
           -0.0004958553472533822,
           -0.0005793645977973938,
           -0.0002525491872802377,
           0.0003456647682469338
          ],
          [
           0.00023684556072112173,
           0.0009999261237680912,
           -0.0015209559351205826,
           -0.0006975578726269305,
           0.0008060504915192723,
           0.00002819105066009797,
           -0.0006155671435408294,
           -0.0006097934092395008,
           0.7198804616928101,
           -0.0006942295003682375,
           0.0005319470656104386,
           0.6940908432006836,
           0.00011434777843533084,
           -0.001376625499688089,
           0.0004795324639417231,
           -0.00024723171372897923,
           -0.0004953256575390697,
           0.0007934608147479594,
           0.000810730445664376,
           0.00030709983548149467
          ],
          [
           -0.0015965832863003016,
           0.0011329404078423977,
           -0.00016606529243290424,
           -0.0031994732562452555,
           0.00045239695464260876,
           -0.0005066784797236323,
           0.00016713565855752677,
           -0.0008754208101890981,
           -0.0006432257359847426,
           0.0003183790831826627,
           -0.0007374489796347916,
           0.00022634620836470276,
           0.9999889731407166,
           -0.0007098413188941777,
           -0.0007398498128168285,
           0.000025399289370398037,
           -0.000728075741790235,
           -0.001297739683650434,
           0.0014819316565990448,
           -0.00047763087786734104
          ],
          [
           -0.0014301621122285724,
           0.00019227844313718379,
           -0.0005129002965986729,
           -0.0002584357571322471,
           0.0005046571022830904,
           -0.0007650217739865184,
           0.0002912728814408183,
           -0.0005157443811185658,
           -0.0002456393849570304,
           -0.0000440752410213463,
           -0.0007298281416296959,
           -0.0007825481006875634,
           0.0012386840535327792,
           0.9999831914901733,
           -0.0006232517771422863,
           0.000055079974117688835,
           -0.0035785159561783075,
           0.00022412120597437024,
           -0.0036846385337412357,
           0.0007628574385307729
          ],
          [
           0.0008921922999434173,
           0.001993031008169055,
           -0.000035454577300697565,
           -0.0013714776141569018,
           -0.00022330334468279034,
           -0.0006503160111606121,
           0.000042086532630492,
           -0.001268451102077961,
           0.0006071979296393692,
           -0.00011677919974317774,
           -0.0000489002195536159,
           0.00020295688591431826,
           0.0006257927743718028,
           0.000645630294457078,
           0.9999907612800598,
           0.0003474106779322028,
           -0.0006779191899113357,
           -0.0007363638724200428,
           0.0027424509171396494,
           0.000012701895684585907
          ],
          [
           -0.0007740560104139149,
           0.000313040625769645,
           -0.000028970991479582153,
           -0.0010056339669972658,
           -0.00021515901607926935,
           0.00003526912769302726,
           -0.00024052659864537418,
           -0.0006994458963163197,
           0.0007678253459744155,
           -0.0002530289930291474,
           0.0008699014433659613,
           0.000489034631755203,
           0.00018761582032311708,
           0.0004361176979728043,
           -0.000550749886315316,
           0.9999943375587463,
           -0.000011370422726031393,
           0.0013402467593550682,
           0.002203006064519286,
           -0.0005137923290021718
          ],
          [
           -0.00007894818554632366,
           -0.0003459917497821152,
           -0.00022778974380344152,
           0.00024294004833791405,
           0.0004201162082608789,
           -0.0003517075383570045,
           0.00022156610793899745,
           0.0001532119495095685,
           0.00019990622240584344,
           0.0005922091659158468,
           0.000007273064511537086,
           0.0006415758980438113,
           -0.0005076082888990641,
           -0.0003646858094725758,
           -0.0005019074305891991,
           0.0012985528446733952,
           0.9999968409538269,
           0.0005060157855041325,
           0.0010559913935139775,
           -0.0009585020015947521
          ],
          [
           0.00023201193835120648,
           0.000841464672703296,
           0.0001660630659898743,
           -0.0003159244079142809,
           -0.0007455224404111505,
           -0.0007890011765994132,
           -0.00008352790609933436,
           -0.00013461751223076135,
           -0.00031188249704428017,
           0.000015078865544637665,
           -0.0002555266837589443,
           -0.00010455798474140465,
           -0.0001365694624837488,
           -0.00036154460394755006,
           0.00040753933717496693,
           0.00010376005229773,
           0.000005257659722701646,
           0.9999879598617554,
           0.0042593153193593025,
           -0.001911279745399952
          ],
          [
           -0.0012405386660248041,
           -0.00041571707697585225,
           -0.00009136416338151321,
           -0.0016308596823364496,
           -0.00038496992783620954,
           -0.0003498388978186995,
           0.00017588942137081176,
           -0.00012265020632185042,
           0.0007021964411251247,
           -0.000644463230855763,
           -0.0002212171530118212,
           0.00029455532785505056,
           0.000630064052529633,
           0.00047550915041938424,
           0.0007115504122339189,
           -0.0001440351625205949,
           0.000023290524040930904,
           -0.0004293945385143161,
           0.9999963045120239,
           -0.0006184844532981515
          ],
          [
           -0.0021006327588111162,
           -0.0011745330411940813,
           -0.00014014569751452655,
           -0.0015012620715424418,
           0.0007705276948399842,
           -0.00015759408415760845,
           0.00045515442616306245,
           -0.0005732514546252787,
           0.0014430731534957886,
           0.00006574601866304874,
           0.0003296291979495436,
           0.0007905156235210598,
           0.00002125812716258224,
           -0.000120330041681882,
           0.000036378867662278935,
           -0.00003976213338319212,
           -0.0020005216356366873,
           0.0005008469452150166,
           -0.0003171102434862405,
           0.9999917149543762
          ]
         ]
        }
       ],
       "layout": {
        "height": 600,
        "template": {
         "data": {
          "bar": [
           {
            "error_x": {
             "color": "#2a3f5f"
            },
            "error_y": {
             "color": "#2a3f5f"
            },
            "marker": {
             "line": {
              "color": "#E5ECF6",
              "width": 0.5
             },
             "pattern": {
              "fillmode": "overlay",
              "size": 10,
              "solidity": 0.2
             }
            },
            "type": "bar"
           }
          ],
          "barpolar": [
           {
            "marker": {
             "line": {
              "color": "#E5ECF6",
              "width": 0.5
             },
             "pattern": {
              "fillmode": "overlay",
              "size": 10,
              "solidity": 0.2
             }
            },
            "type": "barpolar"
           }
          ],
          "carpet": [
           {
            "aaxis": {
             "endlinecolor": "#2a3f5f",
             "gridcolor": "white",
             "linecolor": "white",
             "minorgridcolor": "white",
             "startlinecolor": "#2a3f5f"
            },
            "baxis": {
             "endlinecolor": "#2a3f5f",
             "gridcolor": "white",
             "linecolor": "white",
             "minorgridcolor": "white",
             "startlinecolor": "#2a3f5f"
            },
            "type": "carpet"
           }
          ],
          "choropleth": [
           {
            "colorbar": {
             "outlinewidth": 0,
             "ticks": ""
            },
            "type": "choropleth"
           }
          ],
          "contour": [
           {
            "colorbar": {
             "outlinewidth": 0,
             "ticks": ""
            },
            "colorscale": [
             [
              0,
              "#0d0887"
             ],
             [
              0.1111111111111111,
              "#46039f"
             ],
             [
              0.2222222222222222,
              "#7201a8"
             ],
             [
              0.3333333333333333,
              "#9c179e"
             ],
             [
              0.4444444444444444,
              "#bd3786"
             ],
             [
              0.5555555555555556,
              "#d8576b"
             ],
             [
              0.6666666666666666,
              "#ed7953"
             ],
             [
              0.7777777777777778,
              "#fb9f3a"
             ],
             [
              0.8888888888888888,
              "#fdca26"
             ],
             [
              1,
              "#f0f921"
             ]
            ],
            "type": "contour"
           }
          ],
          "contourcarpet": [
           {
            "colorbar": {
             "outlinewidth": 0,
             "ticks": ""
            },
            "type": "contourcarpet"
           }
          ],
          "heatmap": [
           {
            "colorbar": {
             "outlinewidth": 0,
             "ticks": ""
            },
            "colorscale": [
             [
              0,
              "#0d0887"
             ],
             [
              0.1111111111111111,
              "#46039f"
             ],
             [
              0.2222222222222222,
              "#7201a8"
             ],
             [
              0.3333333333333333,
              "#9c179e"
             ],
             [
              0.4444444444444444,
              "#bd3786"
             ],
             [
              0.5555555555555556,
              "#d8576b"
             ],
             [
              0.6666666666666666,
              "#ed7953"
             ],
             [
              0.7777777777777778,
              "#fb9f3a"
             ],
             [
              0.8888888888888888,
              "#fdca26"
             ],
             [
              1,
              "#f0f921"
             ]
            ],
            "type": "heatmap"
           }
          ],
          "heatmapgl": [
           {
            "colorbar": {
             "outlinewidth": 0,
             "ticks": ""
            },
            "colorscale": [
             [
              0,
              "#0d0887"
             ],
             [
              0.1111111111111111,
              "#46039f"
             ],
             [
              0.2222222222222222,
              "#7201a8"
             ],
             [
              0.3333333333333333,
              "#9c179e"
             ],
             [
              0.4444444444444444,
              "#bd3786"
             ],
             [
              0.5555555555555556,
              "#d8576b"
             ],
             [
              0.6666666666666666,
              "#ed7953"
             ],
             [
              0.7777777777777778,
              "#fb9f3a"
             ],
             [
              0.8888888888888888,
              "#fdca26"
             ],
             [
              1,
              "#f0f921"
             ]
            ],
            "type": "heatmapgl"
           }
          ],
          "histogram": [
           {
            "marker": {
             "pattern": {
              "fillmode": "overlay",
              "size": 10,
              "solidity": 0.2
             }
            },
            "type": "histogram"
           }
          ],
          "histogram2d": [
           {
            "colorbar": {
             "outlinewidth": 0,
             "ticks": ""
            },
            "colorscale": [
             [
              0,
              "#0d0887"
             ],
             [
              0.1111111111111111,
              "#46039f"
             ],
             [
              0.2222222222222222,
              "#7201a8"
             ],
             [
              0.3333333333333333,
              "#9c179e"
             ],
             [
              0.4444444444444444,
              "#bd3786"
             ],
             [
              0.5555555555555556,
              "#d8576b"
             ],
             [
              0.6666666666666666,
              "#ed7953"
             ],
             [
              0.7777777777777778,
              "#fb9f3a"
             ],
             [
              0.8888888888888888,
              "#fdca26"
             ],
             [
              1,
              "#f0f921"
             ]
            ],
            "type": "histogram2d"
           }
          ],
          "histogram2dcontour": [
           {
            "colorbar": {
             "outlinewidth": 0,
             "ticks": ""
            },
            "colorscale": [
             [
              0,
              "#0d0887"
             ],
             [
              0.1111111111111111,
              "#46039f"
             ],
             [
              0.2222222222222222,
              "#7201a8"
             ],
             [
              0.3333333333333333,
              "#9c179e"
             ],
             [
              0.4444444444444444,
              "#bd3786"
             ],
             [
              0.5555555555555556,
              "#d8576b"
             ],
             [
              0.6666666666666666,
              "#ed7953"
             ],
             [
              0.7777777777777778,
              "#fb9f3a"
             ],
             [
              0.8888888888888888,
              "#fdca26"
             ],
             [
              1,
              "#f0f921"
             ]
            ],
            "type": "histogram2dcontour"
           }
          ],
          "mesh3d": [
           {
            "colorbar": {
             "outlinewidth": 0,
             "ticks": ""
            },
            "type": "mesh3d"
           }
          ],
          "parcoords": [
           {
            "line": {
             "colorbar": {
              "outlinewidth": 0,
              "ticks": ""
             }
            },
            "type": "parcoords"
           }
          ],
          "pie": [
           {
            "automargin": true,
            "type": "pie"
           }
          ],
          "scatter": [
           {
            "fillpattern": {
             "fillmode": "overlay",
             "size": 10,
             "solidity": 0.2
            },
            "type": "scatter"
           }
          ],
          "scatter3d": [
           {
            "line": {
             "colorbar": {
              "outlinewidth": 0,
              "ticks": ""
             }
            },
            "marker": {
             "colorbar": {
              "outlinewidth": 0,
              "ticks": ""
             }
            },
            "type": "scatter3d"
           }
          ],
          "scattercarpet": [
           {
            "marker": {
             "colorbar": {
              "outlinewidth": 0,
              "ticks": ""
             }
            },
            "type": "scattercarpet"
           }
          ],
          "scattergeo": [
           {
            "marker": {
             "colorbar": {
              "outlinewidth": 0,
              "ticks": ""
             }
            },
            "type": "scattergeo"
           }
          ],
          "scattergl": [
           {
            "marker": {
             "colorbar": {
              "outlinewidth": 0,
              "ticks": ""
             }
            },
            "type": "scattergl"
           }
          ],
          "scattermapbox": [
           {
            "marker": {
             "colorbar": {
              "outlinewidth": 0,
              "ticks": ""
             }
            },
            "type": "scattermapbox"
           }
          ],
          "scatterpolar": [
           {
            "marker": {
             "colorbar": {
              "outlinewidth": 0,
              "ticks": ""
             }
            },
            "type": "scatterpolar"
           }
          ],
          "scatterpolargl": [
           {
            "marker": {
             "colorbar": {
              "outlinewidth": 0,
              "ticks": ""
             }
            },
            "type": "scatterpolargl"
           }
          ],
          "scatterternary": [
           {
            "marker": {
             "colorbar": {
              "outlinewidth": 0,
              "ticks": ""
             }
            },
            "type": "scatterternary"
           }
          ],
          "surface": [
           {
            "colorbar": {
             "outlinewidth": 0,
             "ticks": ""
            },
            "colorscale": [
             [
              0,
              "#0d0887"
             ],
             [
              0.1111111111111111,
              "#46039f"
             ],
             [
              0.2222222222222222,
              "#7201a8"
             ],
             [
              0.3333333333333333,
              "#9c179e"
             ],
             [
              0.4444444444444444,
              "#bd3786"
             ],
             [
              0.5555555555555556,
              "#d8576b"
             ],
             [
              0.6666666666666666,
              "#ed7953"
             ],
             [
              0.7777777777777778,
              "#fb9f3a"
             ],
             [
              0.8888888888888888,
              "#fdca26"
             ],
             [
              1,
              "#f0f921"
             ]
            ],
            "type": "surface"
           }
          ],
          "table": [
           {
            "cells": {
             "fill": {
              "color": "#EBF0F8"
             },
             "line": {
              "color": "white"
             }
            },
            "header": {
             "fill": {
              "color": "#C8D4E3"
             },
             "line": {
              "color": "white"
             }
            },
            "type": "table"
           }
          ]
         },
         "layout": {
          "annotationdefaults": {
           "arrowcolor": "#2a3f5f",
           "arrowhead": 0,
           "arrowwidth": 1
          },
          "autotypenumbers": "strict",
          "coloraxis": {
           "colorbar": {
            "outlinewidth": 0,
            "ticks": ""
           }
          },
          "colorscale": {
           "diverging": [
            [
             0,
             "#8e0152"
            ],
            [
             0.1,
             "#c51b7d"
            ],
            [
             0.2,
             "#de77ae"
            ],
            [
             0.3,
             "#f1b6da"
            ],
            [
             0.4,
             "#fde0ef"
            ],
            [
             0.5,
             "#f7f7f7"
            ],
            [
             0.6,
             "#e6f5d0"
            ],
            [
             0.7,
             "#b8e186"
            ],
            [
             0.8,
             "#7fbc41"
            ],
            [
             0.9,
             "#4d9221"
            ],
            [
             1,
             "#276419"
            ]
           ],
           "sequential": [
            [
             0,
             "#0d0887"
            ],
            [
             0.1111111111111111,
             "#46039f"
            ],
            [
             0.2222222222222222,
             "#7201a8"
            ],
            [
             0.3333333333333333,
             "#9c179e"
            ],
            [
             0.4444444444444444,
             "#bd3786"
            ],
            [
             0.5555555555555556,
             "#d8576b"
            ],
            [
             0.6666666666666666,
             "#ed7953"
            ],
            [
             0.7777777777777778,
             "#fb9f3a"
            ],
            [
             0.8888888888888888,
             "#fdca26"
            ],
            [
             1,
             "#f0f921"
            ]
           ],
           "sequentialminus": [
            [
             0,
             "#0d0887"
            ],
            [
             0.1111111111111111,
             "#46039f"
            ],
            [
             0.2222222222222222,
             "#7201a8"
            ],
            [
             0.3333333333333333,
             "#9c179e"
            ],
            [
             0.4444444444444444,
             "#bd3786"
            ],
            [
             0.5555555555555556,
             "#d8576b"
            ],
            [
             0.6666666666666666,
             "#ed7953"
            ],
            [
             0.7777777777777778,
             "#fb9f3a"
            ],
            [
             0.8888888888888888,
             "#fdca26"
            ],
            [
             1,
             "#f0f921"
            ]
           ]
          },
          "colorway": [
           "#636efa",
           "#EF553B",
           "#00cc96",
           "#ab63fa",
           "#FFA15A",
           "#19d3f3",
           "#FF6692",
           "#B6E880",
           "#FF97FF",
           "#FECB52"
          ],
          "font": {
           "color": "#2a3f5f"
          },
          "geo": {
           "bgcolor": "white",
           "lakecolor": "white",
           "landcolor": "#E5ECF6",
           "showlakes": true,
           "showland": true,
           "subunitcolor": "white"
          },
          "hoverlabel": {
           "align": "left"
          },
          "hovermode": "closest",
          "mapbox": {
           "style": "light"
          },
          "paper_bgcolor": "white",
          "plot_bgcolor": "#E5ECF6",
          "polar": {
           "angularaxis": {
            "gridcolor": "white",
            "linecolor": "white",
            "ticks": ""
           },
           "bgcolor": "#E5ECF6",
           "radialaxis": {
            "gridcolor": "white",
            "linecolor": "white",
            "ticks": ""
           }
          },
          "scene": {
           "xaxis": {
            "backgroundcolor": "#E5ECF6",
            "gridcolor": "white",
            "gridwidth": 2,
            "linecolor": "white",
            "showbackground": true,
            "ticks": "",
            "zerolinecolor": "white"
           },
           "yaxis": {
            "backgroundcolor": "#E5ECF6",
            "gridcolor": "white",
            "gridwidth": 2,
            "linecolor": "white",
            "showbackground": true,
            "ticks": "",
            "zerolinecolor": "white"
           },
           "zaxis": {
            "backgroundcolor": "#E5ECF6",
            "gridcolor": "white",
            "gridwidth": 2,
            "linecolor": "white",
            "showbackground": true,
            "ticks": "",
            "zerolinecolor": "white"
           }
          },
          "shapedefaults": {
           "line": {
            "color": "#2a3f5f"
           }
          },
          "ternary": {
           "aaxis": {
            "gridcolor": "white",
            "linecolor": "white",
            "ticks": ""
           },
           "baxis": {
            "gridcolor": "white",
            "linecolor": "white",
            "ticks": ""
           },
           "bgcolor": "#E5ECF6",
           "caxis": {
            "gridcolor": "white",
            "linecolor": "white",
            "ticks": ""
           }
          },
          "title": {
           "x": 0.05
          },
          "xaxis": {
           "automargin": true,
           "gridcolor": "white",
           "linecolor": "white",
           "ticks": "",
           "title": {
            "standoff": 15
           },
           "zerolinecolor": "white",
           "zerolinewidth": 2
          },
          "yaxis": {
           "automargin": true,
           "gridcolor": "white",
           "linecolor": "white",
           "ticks": "",
           "title": {
            "standoff": 15
           },
           "zerolinecolor": "white",
           "zerolinewidth": 2
          }
         }
        },
        "title": {
         "text": "Vanilla Decoder, Ground-Truth Cosine Similarity"
        },
        "width": 1000,
        "xaxis": {
         "showticklabels": false,
         "title": {
          "text": "Ground-Truth (20)"
         }
        },
        "yaxis": {
         "autorange": "reversed",
         "showticklabels": false,
         "title": {
          "text": "Vanilla (20)"
         }
        }
       }
      }
     },
     "metadata": {},
     "output_type": "display_data"
    },
    {
     "data": {
      "application/vnd.plotly.v1+json": {
       "config": {
        "plotlyServerURL": "https://plot.ly"
       },
       "data": [
        {
         "colorscale": [
          [
           0,
           "#440154"
          ],
          [
           0.1111111111111111,
           "#482878"
          ],
          [
           0.2222222222222222,
           "#3e4989"
          ],
          [
           0.3333333333333333,
           "#31688e"
          ],
          [
           0.4444444444444444,
           "#26828e"
          ],
          [
           0.5555555555555556,
           "#1f9e89"
          ],
          [
           0.6666666666666666,
           "#35b779"
          ],
          [
           0.7777777777777778,
           "#6ece58"
          ],
          [
           0.8888888888888888,
           "#b5de2b"
          ],
          [
           1,
           "#fde725"
          ]
         ],
         "type": "heatmap",
         "z": [
          [
           0.9601802229881287,
           0.15127860009670258,
           0.15634776651859283,
           0.17083850502967834,
           0.005328443367034197,
           0.0057861944660544395,
           0.008888445794582367,
           0.00870458222925663,
           -0.0006713283364661038,
           0.008527839556336403,
           0.006389542482793331,
           0.002670372137799859,
           0.013198594562709332,
           0.010396350175142288,
           0.00789815466850996,
           0.0078899459913373,
           0.01639418862760067,
           0.007034047972410917,
           0.019663620740175247,
           0.009416533634066582
          ],
          [
           -0.24542871117591858,
           0.5148345828056335,
           -0.8204942941665649,
           -0.0386500246822834,
           0.0011153846280649304,
           0.0004991657333448529,
           -0.0004765206831507385,
           0.0004359053273219615,
           0.0011291727423667908,
           -0.0004851687408518046,
           -0.0006241091759875417,
           -0.000012703540960501414,
           0.0007478814804926515,
           0.00019292047363705933,
           0.00018326626741327345,
           -0.0002621800813358277,
           -0.00008366994734387845,
           -0.000613646290730685,
           -0.00025293714134022593,
           0.0006159896729514003
          ],
          [
           0.5569911003112793,
           -0.6786770224571228,
           0.47535252571105957,
           -0.056074440479278564,
           0.002723362995311618,
           -0.0027392220217734575,
           -0.0013245628215372562,
           -0.00021268111595418304,
           -0.0022894693538546562,
           -0.00095017981948331,
           -0.0020820896606892347,
           0.004317237064242363,
           -0.0003402201982680708,
           0.0004298417770769447,
           -0.0010263845324516296,
           -0.0014663359615951777,
           -0.0009650891297496855,
           -0.0010985336266458035,
           -0.0013078792253509164,
           -0.00092933519044891
          ],
          [
           0.10991883277893066,
           -0.32945162057876587,
           -0.9097513556480408,
           0.2273620367050171,
           0.001488576061092317,
           -0.0025876672007143497,
           -0.0011145435273647308,
           -0.003291679546236992,
           0.0014668473741039634,
           -0.001620975905098021,
           -0.0013673084322363138,
           -0.0012524896301329136,
           -0.0014799702912569046,
           -0.00015440222341567278,
           -0.001358869718387723,
           -0.0013267414178699255,
           -0.0005466636503115296,
           -0.00027470674831420183,
           -0.0011942043201997876,
           -0.0012453774688765407
          ],
          [
           0.005530365742743015,
           0.0019481718773022294,
           0.00181959115434438,
           0.0024852738715708256,
           0.9606953859329224,
           0.1464564949274063,
           0.1687326580286026,
           0.1640760898590088,
           -0.0054307179525494576,
           0.0036812066100537777,
           0.005712066777050495,
           -0.00464367400854826,
           -0.0005390798323787749,
           0.0024412020575255156,
           0.004627660848200321,
           0.004102862440049648,
           0.004101738333702087,
           0.0002676803560461849,
           0.0031346813775599003,
           0.003269792767241597
          ],
          [
           0.0006808743928559124,
           -0.0013537814375013113,
           -0.0009464591857977211,
           -0.0009167767129838467,
           -0.33257827162742615,
           0.6386708617210388,
           -0.6603525876998901,
           -0.21311400830745697,
           -0.00021841250418219715,
           0.0006190353306010365,
           -0.00044865807285532355,
           -0.000716736598405987,
           -0.0002698337775655091,
           -0.0008445183630101383,
           0.00010137030039913952,
           0.0005263706552796066,
           -0.0007022172794677317,
           -0.0010168905137106776,
           -0.00019112795416731387,
           0.0002295928861713037
          ],
          [
           0.00007581085083074868,
           -0.001453874632716179,
           -0.0003455173864495009,
           -0.0009013892849907279,
           -0.34615442156791687,
           -0.34667840600013733,
           0.6050107479095459,
           -0.6276400685310364,
           0.0013378812000155449,
           -0.0020330504048615694,
           -0.0016549222636967897,
           -0.0014375196769833565,
           -0.0003679198562167585,
           -0.0009654455352574587,
           0.0005749683477915823,
           -0.0014231279492378235,
           -0.0006482458557002246,
           -0.0014753465075045824,
           -0.0009528501541353762,
           -0.0004986731801182032
          ],
          [
           0.000593587988987565,
           -0.0006596915773116052,
           0.00023952379706315696,
           0.0006940331077203155,
           0.12409957498311996,
           -0.9814099073410034,
           0.013964343816041946,
           0.14567388594150543,
           0.0006973438430577517,
           -0.0013426225632429123,
           0.000034243566915392876,
           -0.0016259885160252452,
           0.0004141029785387218,
           0.000234233753872104,
           0.00030752504244446754,
           0.0017331017879769206,
           0.0026035720948129892,
           0.0003869214851874858,
           0.0011991700157523155,
           0.00035547930747270584
          ],
          [
           0.004655938129872084,
           0.0013498413609340787,
           0.0035601845011115074,
           0.0009274870972149074,
           -0.002003511879593134,
           0.010888098739087582,
           0.0014867032878100872,
           0.0033874225337058306,
           0.9634081125259399,
           0.15688376128673553,
           0.1585329920053482,
           0.1474384367465973,
           0.002225138945505023,
           0.00048429661546833813,
           0.00975840911269188,
           0.006229759659618139,
           0.0034587059635668993,
           0.00193681544624269,
           0.004940985236316919,
           0.0029494508635252714
          ],
          [
           0.0009155726875178516,
           0.000025799610739341006,
           0.00020856746414210647,
           -0.0010361140593886375,
           0.00038228058838285506,
           0.00037424720358103514,
           0.001715244958177209,
           0.0013246735325083137,
           -0.021287912502884865,
           0.5416274666786194,
           -0.5242016315460205,
           -0.6567950248718262,
           0.0003640189243014902,
           -0.00038741063326597214,
           -0.0009950350504368544,
           -0.0028316546231508255,
           0.0008213726105168462,
           0.00028948779799975455,
           -0.0014712326228618622,
           -0.00044340878957882524
          ],
          [
           0.0009764459100551903,
           -0.0016750306822359562,
           -0.0025439858436584473,
           -0.0011193135287612677,
           0.0010997926583513618,
           -0.0019614226184785366,
           -0.002150710904970765,
           -0.0014171458315104246,
           -0.3092554211616516,
           0.35504308342933655,
           0.785741925239563,
           -0.4010954797267914,
           0.0004520552174653858,
           -0.0004134960472583771,
           -0.00006128002132754773,
           0.00026884645922109485,
           -0.0020251949317753315,
           -0.00297034764662385,
           -0.0009700582013465464,
           -0.00034804409369826317
          ],
          [
           0.0007588858134113252,
           -0.0013415948487818241,
           -0.002327019115909934,
           -0.0014118996914476156,
           0.0007386241341009736,
           -0.0007225871668197215,
           -0.0004871708806604147,
           -0.0021408519241958857,
           0.10956320911645889,
           -0.2582930326461792,
           -0.8980556726455688,
           0.3387347161769867,
           -0.0022146974224597216,
           -0.002418366027995944,
           -0.00013611894974019378,
           0.0005058968672528863,
           -0.0007273703813552856,
           -0.00026165720191784203,
           -0.002146494807675481,
           -0.0018905733013525605
          ],
          [
           0.0018208051333203912,
           0.002867745468392968,
           0.006597036495804787,
           0.0018919861176982522,
           0.0035529686138033867,
           0.006566839292645454,
           0.006114133168011904,
           0.005129114259034395,
           0.005007270257920027,
           0.008165455423295498,
           0.0016260133124887943,
           0.011671393178403378,
           0.999546468257904,
           0.008171163499355316,
           0.0025377331767231226,
           0.017564959824085236,
           0.002577735809609294,
           0.0038162146229296923,
           0.005107252858579159,
           0.008305258117616177
          ],
          [
           0.002884866204112768,
           0.0018434268422424793,
           0.0012616879539564252,
           -0.00010541223309701309,
           -0.0011538059916347265,
           0.0065415482968091965,
           0.005625905003398657,
           0.0028731622733175755,
           -0.0007418697350658476,
           0.005271271802484989,
           0.0029818606562912464,
           0.006272025406360626,
           0.006879651919007301,
           0.9997860789299011,
           0.006673191208392382,
           0.003096309257671237,
           -0.002722787205129862,
           0.007856891490519047,
           0.0003131711564492434,
           0.009130553342401981
          ],
          [
           0.0018685042159631848,
           -0.0005700727342627943,
           0.004469861276447773,
           0.003263864666223526,
           -0.0007286322652362287,
           0.0011597906704992056,
           0.0012267185375094414,
           0.00002196874083892908,
           -0.0012694167671725154,
           0.005599061027169228,
           0.0014773859875276685,
           0.0025883845519274473,
           0.010487927123904228,
           0.004666878841817379,
           0.9998069405555725,
           0.006623643916100264,
           0.0005689201061613858,
           0.008194341324269772,
           0.003270099638029933,
           0.007253472693264484
          ],
          [
           -0.0038565555587410927,
           0.005669088568538427,
           0.002329390961676836,
           0.00658657681196928,
           0.00147781684063375,
           0.0006241991650313139,
           0.00765039911493659,
           0.0032690605148673058,
           -0.0011308460962027311,
           0.0014306848170235753,
           -0.003546992316842079,
           0.006146287079900503,
           0.0066300444304943085,
           0.00950436107814312,
           0.00689291674643755,
           0.9997186064720154,
           -0.001419763662852347,
           0.005842370912432671,
           0.005860285833477974,
           0.009441343136131763
          ],
          [
           0.0037854176480323076,
           -0.0029173707589507103,
           0.003274954156950116,
           0.0014845217810943723,
           0.0029623170848935843,
           -0.0028499364852905273,
           -0.0006547196535393596,
           -0.0061071631498634815,
           -0.0025462720077484846,
           -0.00016199539822991937,
           0.002841736190021038,
           0.004692633170634508,
           0.0009194397716782987,
           0.003818001365289092,
           0.000373939546989277,
           0.005879284348338842,
           0.9998270273208618,
           0.0022684771101921797,
           0.011686486192047596,
           0.005193676799535751
          ],
          [
           0.004816804081201553,
           0.006779246032238007,
           0.01062405202537775,
           0.0032515337225049734,
           0.0056440201587975025,
           0.00039926895988173783,
           0.007199129089713097,
           0.013073960319161415,
           0.005303155165165663,
           0.00436794850975275,
           -0.001515061012469232,
           0.002359237754717469,
           0.015425561927258968,
           0.007938037626445293,
           0.007764342240989208,
           -0.0013531292788684368,
           0.007807778660207987,
           0.9994643926620483,
           0.009111681021749973,
           0.007842658087611198
          ],
          [
           0.00455304142087698,
           0.0027275756001472473,
           0.0039536477997899055,
           0.0019689498003572226,
           -0.006067376583814621,
           -0.0025738191325217485,
           0.004484623670578003,
           0.0038290254306048155,
           0.0003275581693742424,
           0.0004461394273675978,
           0.003767558606341481,
           0.008961021900177002,
           0.005001189652830362,
           0.004190626088529825,
           0.0014608160126954317,
           0.004605082329362631,
           0.007417596876621246,
           0.001471327617764473,
           0.9998048543930054,
           0.0068184067495167255
          ],
          [
           0.0018636580789461732,
           0.0036456864327192307,
           0.00018713457393459976,
           0.0012019411660730839,
           0.0012158200843259692,
           0.0005112508661113679,
           0.0034071416594088078,
           0.0025014716666191816,
           -0.0011292558629065752,
           0.006641429383307695,
           0.0021337303332984447,
           0.004108570981770754,
           0.005256136413663626,
           0.004082328639924526,
           0.009809140115976334,
           0.003387706121429801,
           0.004001440480351448,
           0.0033426720183342695,
           0.003543839091435075,
           0.9998518228530884
          ]
         ]
        }
       ],
       "layout": {
        "height": 600,
        "template": {
         "data": {
          "bar": [
           {
            "error_x": {
             "color": "#2a3f5f"
            },
            "error_y": {
             "color": "#2a3f5f"
            },
            "marker": {
             "line": {
              "color": "#E5ECF6",
              "width": 0.5
             },
             "pattern": {
              "fillmode": "overlay",
              "size": 10,
              "solidity": 0.2
             }
            },
            "type": "bar"
           }
          ],
          "barpolar": [
           {
            "marker": {
             "line": {
              "color": "#E5ECF6",
              "width": 0.5
             },
             "pattern": {
              "fillmode": "overlay",
              "size": 10,
              "solidity": 0.2
             }
            },
            "type": "barpolar"
           }
          ],
          "carpet": [
           {
            "aaxis": {
             "endlinecolor": "#2a3f5f",
             "gridcolor": "white",
             "linecolor": "white",
             "minorgridcolor": "white",
             "startlinecolor": "#2a3f5f"
            },
            "baxis": {
             "endlinecolor": "#2a3f5f",
             "gridcolor": "white",
             "linecolor": "white",
             "minorgridcolor": "white",
             "startlinecolor": "#2a3f5f"
            },
            "type": "carpet"
           }
          ],
          "choropleth": [
           {
            "colorbar": {
             "outlinewidth": 0,
             "ticks": ""
            },
            "type": "choropleth"
           }
          ],
          "contour": [
           {
            "colorbar": {
             "outlinewidth": 0,
             "ticks": ""
            },
            "colorscale": [
             [
              0,
              "#0d0887"
             ],
             [
              0.1111111111111111,
              "#46039f"
             ],
             [
              0.2222222222222222,
              "#7201a8"
             ],
             [
              0.3333333333333333,
              "#9c179e"
             ],
             [
              0.4444444444444444,
              "#bd3786"
             ],
             [
              0.5555555555555556,
              "#d8576b"
             ],
             [
              0.6666666666666666,
              "#ed7953"
             ],
             [
              0.7777777777777778,
              "#fb9f3a"
             ],
             [
              0.8888888888888888,
              "#fdca26"
             ],
             [
              1,
              "#f0f921"
             ]
            ],
            "type": "contour"
           }
          ],
          "contourcarpet": [
           {
            "colorbar": {
             "outlinewidth": 0,
             "ticks": ""
            },
            "type": "contourcarpet"
           }
          ],
          "heatmap": [
           {
            "colorbar": {
             "outlinewidth": 0,
             "ticks": ""
            },
            "colorscale": [
             [
              0,
              "#0d0887"
             ],
             [
              0.1111111111111111,
              "#46039f"
             ],
             [
              0.2222222222222222,
              "#7201a8"
             ],
             [
              0.3333333333333333,
              "#9c179e"
             ],
             [
              0.4444444444444444,
              "#bd3786"
             ],
             [
              0.5555555555555556,
              "#d8576b"
             ],
             [
              0.6666666666666666,
              "#ed7953"
             ],
             [
              0.7777777777777778,
              "#fb9f3a"
             ],
             [
              0.8888888888888888,
              "#fdca26"
             ],
             [
              1,
              "#f0f921"
             ]
            ],
            "type": "heatmap"
           }
          ],
          "heatmapgl": [
           {
            "colorbar": {
             "outlinewidth": 0,
             "ticks": ""
            },
            "colorscale": [
             [
              0,
              "#0d0887"
             ],
             [
              0.1111111111111111,
              "#46039f"
             ],
             [
              0.2222222222222222,
              "#7201a8"
             ],
             [
              0.3333333333333333,
              "#9c179e"
             ],
             [
              0.4444444444444444,
              "#bd3786"
             ],
             [
              0.5555555555555556,
              "#d8576b"
             ],
             [
              0.6666666666666666,
              "#ed7953"
             ],
             [
              0.7777777777777778,
              "#fb9f3a"
             ],
             [
              0.8888888888888888,
              "#fdca26"
             ],
             [
              1,
              "#f0f921"
             ]
            ],
            "type": "heatmapgl"
           }
          ],
          "histogram": [
           {
            "marker": {
             "pattern": {
              "fillmode": "overlay",
              "size": 10,
              "solidity": 0.2
             }
            },
            "type": "histogram"
           }
          ],
          "histogram2d": [
           {
            "colorbar": {
             "outlinewidth": 0,
             "ticks": ""
            },
            "colorscale": [
             [
              0,
              "#0d0887"
             ],
             [
              0.1111111111111111,
              "#46039f"
             ],
             [
              0.2222222222222222,
              "#7201a8"
             ],
             [
              0.3333333333333333,
              "#9c179e"
             ],
             [
              0.4444444444444444,
              "#bd3786"
             ],
             [
              0.5555555555555556,
              "#d8576b"
             ],
             [
              0.6666666666666666,
              "#ed7953"
             ],
             [
              0.7777777777777778,
              "#fb9f3a"
             ],
             [
              0.8888888888888888,
              "#fdca26"
             ],
             [
              1,
              "#f0f921"
             ]
            ],
            "type": "histogram2d"
           }
          ],
          "histogram2dcontour": [
           {
            "colorbar": {
             "outlinewidth": 0,
             "ticks": ""
            },
            "colorscale": [
             [
              0,
              "#0d0887"
             ],
             [
              0.1111111111111111,
              "#46039f"
             ],
             [
              0.2222222222222222,
              "#7201a8"
             ],
             [
              0.3333333333333333,
              "#9c179e"
             ],
             [
              0.4444444444444444,
              "#bd3786"
             ],
             [
              0.5555555555555556,
              "#d8576b"
             ],
             [
              0.6666666666666666,
              "#ed7953"
             ],
             [
              0.7777777777777778,
              "#fb9f3a"
             ],
             [
              0.8888888888888888,
              "#fdca26"
             ],
             [
              1,
              "#f0f921"
             ]
            ],
            "type": "histogram2dcontour"
           }
          ],
          "mesh3d": [
           {
            "colorbar": {
             "outlinewidth": 0,
             "ticks": ""
            },
            "type": "mesh3d"
           }
          ],
          "parcoords": [
           {
            "line": {
             "colorbar": {
              "outlinewidth": 0,
              "ticks": ""
             }
            },
            "type": "parcoords"
           }
          ],
          "pie": [
           {
            "automargin": true,
            "type": "pie"
           }
          ],
          "scatter": [
           {
            "fillpattern": {
             "fillmode": "overlay",
             "size": 10,
             "solidity": 0.2
            },
            "type": "scatter"
           }
          ],
          "scatter3d": [
           {
            "line": {
             "colorbar": {
              "outlinewidth": 0,
              "ticks": ""
             }
            },
            "marker": {
             "colorbar": {
              "outlinewidth": 0,
              "ticks": ""
             }
            },
            "type": "scatter3d"
           }
          ],
          "scattercarpet": [
           {
            "marker": {
             "colorbar": {
              "outlinewidth": 0,
              "ticks": ""
             }
            },
            "type": "scattercarpet"
           }
          ],
          "scattergeo": [
           {
            "marker": {
             "colorbar": {
              "outlinewidth": 0,
              "ticks": ""
             }
            },
            "type": "scattergeo"
           }
          ],
          "scattergl": [
           {
            "marker": {
             "colorbar": {
              "outlinewidth": 0,
              "ticks": ""
             }
            },
            "type": "scattergl"
           }
          ],
          "scattermapbox": [
           {
            "marker": {
             "colorbar": {
              "outlinewidth": 0,
              "ticks": ""
             }
            },
            "type": "scattermapbox"
           }
          ],
          "scatterpolar": [
           {
            "marker": {
             "colorbar": {
              "outlinewidth": 0,
              "ticks": ""
             }
            },
            "type": "scatterpolar"
           }
          ],
          "scatterpolargl": [
           {
            "marker": {
             "colorbar": {
              "outlinewidth": 0,
              "ticks": ""
             }
            },
            "type": "scatterpolargl"
           }
          ],
          "scatterternary": [
           {
            "marker": {
             "colorbar": {
              "outlinewidth": 0,
              "ticks": ""
             }
            },
            "type": "scatterternary"
           }
          ],
          "surface": [
           {
            "colorbar": {
             "outlinewidth": 0,
             "ticks": ""
            },
            "colorscale": [
             [
              0,
              "#0d0887"
             ],
             [
              0.1111111111111111,
              "#46039f"
             ],
             [
              0.2222222222222222,
              "#7201a8"
             ],
             [
              0.3333333333333333,
              "#9c179e"
             ],
             [
              0.4444444444444444,
              "#bd3786"
             ],
             [
              0.5555555555555556,
              "#d8576b"
             ],
             [
              0.6666666666666666,
              "#ed7953"
             ],
             [
              0.7777777777777778,
              "#fb9f3a"
             ],
             [
              0.8888888888888888,
              "#fdca26"
             ],
             [
              1,
              "#f0f921"
             ]
            ],
            "type": "surface"
           }
          ],
          "table": [
           {
            "cells": {
             "fill": {
              "color": "#EBF0F8"
             },
             "line": {
              "color": "white"
             }
            },
            "header": {
             "fill": {
              "color": "#C8D4E3"
             },
             "line": {
              "color": "white"
             }
            },
            "type": "table"
           }
          ]
         },
         "layout": {
          "annotationdefaults": {
           "arrowcolor": "#2a3f5f",
           "arrowhead": 0,
           "arrowwidth": 1
          },
          "autotypenumbers": "strict",
          "coloraxis": {
           "colorbar": {
            "outlinewidth": 0,
            "ticks": ""
           }
          },
          "colorscale": {
           "diverging": [
            [
             0,
             "#8e0152"
            ],
            [
             0.1,
             "#c51b7d"
            ],
            [
             0.2,
             "#de77ae"
            ],
            [
             0.3,
             "#f1b6da"
            ],
            [
             0.4,
             "#fde0ef"
            ],
            [
             0.5,
             "#f7f7f7"
            ],
            [
             0.6,
             "#e6f5d0"
            ],
            [
             0.7,
             "#b8e186"
            ],
            [
             0.8,
             "#7fbc41"
            ],
            [
             0.9,
             "#4d9221"
            ],
            [
             1,
             "#276419"
            ]
           ],
           "sequential": [
            [
             0,
             "#0d0887"
            ],
            [
             0.1111111111111111,
             "#46039f"
            ],
            [
             0.2222222222222222,
             "#7201a8"
            ],
            [
             0.3333333333333333,
             "#9c179e"
            ],
            [
             0.4444444444444444,
             "#bd3786"
            ],
            [
             0.5555555555555556,
             "#d8576b"
            ],
            [
             0.6666666666666666,
             "#ed7953"
            ],
            [
             0.7777777777777778,
             "#fb9f3a"
            ],
            [
             0.8888888888888888,
             "#fdca26"
            ],
            [
             1,
             "#f0f921"
            ]
           ],
           "sequentialminus": [
            [
             0,
             "#0d0887"
            ],
            [
             0.1111111111111111,
             "#46039f"
            ],
            [
             0.2222222222222222,
             "#7201a8"
            ],
            [
             0.3333333333333333,
             "#9c179e"
            ],
            [
             0.4444444444444444,
             "#bd3786"
            ],
            [
             0.5555555555555556,
             "#d8576b"
            ],
            [
             0.6666666666666666,
             "#ed7953"
            ],
            [
             0.7777777777777778,
             "#fb9f3a"
            ],
            [
             0.8888888888888888,
             "#fdca26"
            ],
            [
             1,
             "#f0f921"
            ]
           ]
          },
          "colorway": [
           "#636efa",
           "#EF553B",
           "#00cc96",
           "#ab63fa",
           "#FFA15A",
           "#19d3f3",
           "#FF6692",
           "#B6E880",
           "#FF97FF",
           "#FECB52"
          ],
          "font": {
           "color": "#2a3f5f"
          },
          "geo": {
           "bgcolor": "white",
           "lakecolor": "white",
           "landcolor": "#E5ECF6",
           "showlakes": true,
           "showland": true,
           "subunitcolor": "white"
          },
          "hoverlabel": {
           "align": "left"
          },
          "hovermode": "closest",
          "mapbox": {
           "style": "light"
          },
          "paper_bgcolor": "white",
          "plot_bgcolor": "#E5ECF6",
          "polar": {
           "angularaxis": {
            "gridcolor": "white",
            "linecolor": "white",
            "ticks": ""
           },
           "bgcolor": "#E5ECF6",
           "radialaxis": {
            "gridcolor": "white",
            "linecolor": "white",
            "ticks": ""
           }
          },
          "scene": {
           "xaxis": {
            "backgroundcolor": "#E5ECF6",
            "gridcolor": "white",
            "gridwidth": 2,
            "linecolor": "white",
            "showbackground": true,
            "ticks": "",
            "zerolinecolor": "white"
           },
           "yaxis": {
            "backgroundcolor": "#E5ECF6",
            "gridcolor": "white",
            "gridwidth": 2,
            "linecolor": "white",
            "showbackground": true,
            "ticks": "",
            "zerolinecolor": "white"
           },
           "zaxis": {
            "backgroundcolor": "#E5ECF6",
            "gridcolor": "white",
            "gridwidth": 2,
            "linecolor": "white",
            "showbackground": true,
            "ticks": "",
            "zerolinecolor": "white"
           }
          },
          "shapedefaults": {
           "line": {
            "color": "#2a3f5f"
           }
          },
          "ternary": {
           "aaxis": {
            "gridcolor": "white",
            "linecolor": "white",
            "ticks": ""
           },
           "baxis": {
            "gridcolor": "white",
            "linecolor": "white",
            "ticks": ""
           },
           "bgcolor": "#E5ECF6",
           "caxis": {
            "gridcolor": "white",
            "linecolor": "white",
            "ticks": ""
           }
          },
          "title": {
           "x": 0.05
          },
          "xaxis": {
           "automargin": true,
           "gridcolor": "white",
           "linecolor": "white",
           "ticks": "",
           "title": {
            "standoff": 15
           },
           "zerolinecolor": "white",
           "zerolinewidth": 2
          },
          "yaxis": {
           "automargin": true,
           "gridcolor": "white",
           "linecolor": "white",
           "ticks": "",
           "title": {
            "standoff": 15
           },
           "zerolinecolor": "white",
           "zerolinewidth": 2
          }
         }
        },
        "title": {
         "text": "Matryoshka Encoder, Ground-Truth Cosine Similarity"
        },
        "width": 1000,
        "xaxis": {
         "showticklabels": false,
         "title": {
          "text": "Feature (20)"
         }
        },
        "yaxis": {
         "autorange": "reversed",
         "showticklabels": false,
         "title": {
          "text": "Latent (20)"
         }
        }
       }
      }
     },
     "metadata": {},
     "output_type": "display_data"
    },
    {
     "data": {
      "application/vnd.plotly.v1+json": {
       "config": {
        "plotlyServerURL": "https://plot.ly"
       },
       "data": [
        {
         "colorscale": [
          [
           0,
           "#440154"
          ],
          [
           0.1111111111111111,
           "#482878"
          ],
          [
           0.2222222222222222,
           "#3e4989"
          ],
          [
           0.3333333333333333,
           "#31688e"
          ],
          [
           0.4444444444444444,
           "#26828e"
          ],
          [
           0.5555555555555556,
           "#1f9e89"
          ],
          [
           0.6666666666666666,
           "#35b779"
          ],
          [
           0.7777777777777778,
           "#6ece58"
          ],
          [
           0.8888888888888888,
           "#b5de2b"
          ],
          [
           1,
           "#fde725"
          ]
         ],
         "type": "heatmap",
         "z": [
          [
           0.49126070737838745,
           -0.5091866254806519,
           -0.4725896418094635,
           -0.5254002213478088,
           -0.00001749697548802942,
           -0.0007980034570209682,
           -0.00036660744808614254,
           0.0002359643258387223,
           -0.000031747596949571744,
           -0.00015802816778887063,
           0.0012204877566546202,
           0.00019387515203561634,
           0.0011965561425313354,
           0.000625950749963522,
           -0.0005785321700386703,
           0.000011451378668425605,
           -0.0007738178828731179,
           0.000014511360859614797,
           0.0001865992380771786,
           -0.0005191414966247976
          ],
          [
           0.01564815081655979,
           0.9712629318237305,
           0.057191044092178345,
           -0.23008893430233002,
           0.002627185545861721,
           -0.002557100262492895,
           -0.004769823048263788,
           0.003229981753975153,
           -0.0009969600941985846,
           0.00022092529980000108,
           -0.003950502257794142,
           -0.005125940777361393,
           0.0011703269556164742,
           0.002268011448904872,
           0.0009800163097679615,
           0.003930700942873955,
           -0.00442943349480629,
           0.00262435432523489,
           0.005355366040021181,
           0.004891837015748024
          ],
          [
           -0.021881047636270523,
           -0.19506242871284485,
           0.8897104859352112,
           -0.4121420681476593,
           -0.002348116599023342,
           -0.001364152180030942,
           -0.0006907981587573886,
           0.00033404582063667476,
           0.0023122248239815235,
           0.00075868348358199,
           0.0014418313512578607,
           -0.00010882601054618135,
           0.00032207390177063644,
           -0.0011794561287388206,
           -0.0002907396119553596,
           -0.0010439857142046094,
           -0.0013308414490893483,
           0.0004153982154093683,
           -0.0022641937248408794,
           -0.00029429513961076736
          ],
          [
           -0.08953048288822174,
           -0.08224421739578247,
           0.00939925480633974,
           0.9925019145011902,
           0.00013858698366675526,
           -0.001948650344274938,
           -0.0017523699207231402,
           0.0030181582551449537,
           0.0021748312283307314,
           0.0017691418761387467,
           -0.0012301808455958962,
           0.0011349255219101906,
           -0.002001456217840314,
           0.002971896668896079,
           -0.0012115174904465675,
           -0.0006750999600626528,
           -0.002927066059783101,
           -0.0038674576207995415,
           0.0011401086812838912,
           -0.0023126399610191584
          ],
          [
           -0.0015115774003788829,
           0.0006702123791910708,
           -0.0006420357385650277,
           -0.0002610730880405754,
           0.46522781252861023,
           -0.5181336998939514,
           -0.48190197348594666,
           -0.531850278377533,
           -0.000271545082796365,
           -0.00030782431713305414,
           -0.00046174705494195223,
           0.0009535513236187398,
           0.0004513949097599834,
           0.0005337288021109998,
           -0.00024927957565523684,
           0.00010274455416947603,
           -0.0009856600081548095,
           -0.00003275880590081215,
           0.0005506129818968475,
           -0.0001242436410393566
          ],
          [
           0.00004639223334379494,
           -0.0019881387706846,
           0.00007588454900542274,
           -0.003462841734290123,
           -0.06859977543354034,
           0.9819031953811646,
           0.07802626490592957,
           -0.15824997425079346,
           0.00031005064374767244,
           0.0007804533233866096,
           0.0006735738134011626,
           0.00021041498985141516,
           0.0007623758865520358,
           -0.002352947136387229,
           -0.0019011435797438025,
           0.00014069177268538624,
           0.0003147150273434818,
           -0.0004302590386942029,
           0.0009760246030054986,
           -0.0008719255565665662
          ],
          [
           -0.0009876160183921456,
           0.0018372919876128435,
           -0.0038316603749990463,
           -0.0003218211350031197,
           0.007409790530800819,
           -0.12859344482421875,
           0.9581303596496582,
           -0.25552406907081604,
           -0.0017975830705836415,
           -0.00010502953955437988,
           -0.0053698718547821045,
           -0.0018818728858605027,
           0.002968132495880127,
           0.0013381841126829386,
           0.00019048302783630788,
           0.0012949162628501654,
           -0.0035252850502729416,
           0.0006017919513396919,
           0.0038146721199154854,
           -0.0028283793944865465
          ],
          [
           0.0007509734132327139,
           0.003037606831640005,
           0.0007259431295096874,
           0.0006458673742599785,
           -0.16445519030094147,
           0.1096099391579628,
           0.00227913586422801,
           0.9802396893501282,
           -0.0017651530215516686,
           0.0001977471838472411,
           -0.0024920033756643534,
           -0.0015866567846387625,
           0.0025232145562767982,
           0.0018493765965104103,
           0.0014877839712426066,
           -0.0005801122752018273,
           0.0007952243904583156,
           -0.0024717324413359165,
           -0.0033600691240280867,
           0.0034696904476732016
          ],
          [
           0.0016093511367216706,
           -0.00032304858905263245,
           0.0005684390780515969,
           0.0011934724170714617,
           0.0010140988742932677,
           0.0000957330921664834,
           -0.00030231091659516096,
           0.00007041550270514563,
           0.492857962846756,
           -0.530909538269043,
           -0.4874591827392578,
           -0.4874422550201416,
           -0.0008445380954071879,
           -0.0005788286798633635,
           -0.000160574636538513,
           0.0009877042612060905,
           -0.0011078144889324903,
           -0.0006445198669098318,
           -0.000056843931815819815,
           0.0006592217250727117
          ],
          [
           0.00021833597566001117,
           -0.0015985810896381736,
           -0.0007013481226749718,
           0.000536883482709527,
           0.0006282454705797136,
           -0.00035119938547722995,
           0.00018350579193793237,
           -0.00045926240272819996,
           -0.055684708058834076,
           0.9483225345611572,
           -0.30516985058784485,
           -0.0666077733039856,
           -0.0015590767143294215,
           -0.0008689283858984709,
           -0.0006029285141266882,
           -0.0016909821424633265,
           0.0007589558372274041,
           0.0016199415549635887,
           0.0020003248937427998,
           0.0007717935950495303
          ],
          [
           -0.0007858825847506523,
           -0.0018651512218639255,
           -0.0026862171944230795,
           0.001536542666144669,
           0.007131046615540981,
           -0.0004754060064442456,
           -0.0023480772506445646,
           0.0035277861170470715,
           0.05715223774313927,
           -0.30992966890335083,
           0.8486778736114502,
           -0.4246085584163666,
           0.002362374681979418,
           0.001604641554877162,
           0.0003351151244714856,
           -0.002004297450184822,
           0.00047861470375210047,
           -0.004389849025756121,
           -0.000851362245157361,
           -0.003915207926183939
          ],
          [
           -0.000195096101379022,
           0.004886085633188486,
           -0.0012859688140451908,
           -0.004153958987444639,
           -0.00364594254642725,
           0.003388799726963043,
           -0.0003751095209736377,
           -0.0002395433548372239,
           -0.0099799744784832,
           -0.08776810765266418,
           -0.38690802454948425,
           0.9178160429000854,
           0.0031784384045749903,
           0.003972538746893406,
           -0.0005483031854964793,
           -0.0011392717715352774,
           0.002188469283282757,
           -0.00014332625141832978,
           0.0035787513479590416,
           0.0006694319890812039
          ],
          [
           0.0014808474807068706,
           0.0005498515092767775,
           0.002123787999153137,
           -0.0005739354528486729,
           -0.00036610435927286744,
           0.0013931128196418285,
           0.00478456960991025,
           0.0013118617935106158,
           0.000019551545847207308,
           0.0014990096678957343,
           0.0030979716684669256,
           0.001492014736868441,
           0.9999661445617676,
           -0.0016711154021322727,
           0.0021422207355499268,
           0.0012232473818585277,
           -0.0013832105323672295,
           0.0022497589234262705,
           -0.0016262276330962777,
           0.0010828381637111306
          ],
          [
           -0.000059446632803883404,
           -0.0004241903661750257,
           -0.0028600834775716066,
           0.0012557758018374443,
           -0.00008669926319271326,
           0.0000600032253714744,
           0.0029404873494058847,
           0.00028242391999810934,
           0.0004600839747581631,
           -0.001092257909476757,
           0.005841831211000681,
           0.0007604073034599423,
           -0.003204973880201578,
           0.9999606609344482,
           0.0015964539488777518,
           0.0003849320928566158,
           0.002538325497880578,
           0.0005150252836756408,
           0.0007186941220425069,
           0.0019510237034410238
          ],
          [
           -0.0014027456054463983,
           -0.000548963958863169,
           -0.00035552005283534527,
           -0.0006893149111419916,
           0.0004495833127293736,
           -0.0012421460123732686,
           -0.0010284591699019074,
           -0.0006562443450093269,
           -0.00036868301685899496,
           -0.0010556007036939263,
           0.0003220989601686597,
           -0.0002666389918886125,
           0.0012214788002893329,
           0.0003404218005016446,
           0.9999900460243225,
           0.0008150809444487095,
           -0.002261536195874214,
           0.00011386396363377571,
           0.0008982555009424686,
           -0.002043055137619376
          ],
          [
           0.0007225414155982435,
           -0.0011967922328040004,
           -0.0026693344116210938,
           -0.00022386517957784235,
           0.002262924099341035,
           0.0019762651063501835,
           0.0022390251979231834,
           0.0008503012359142303,
           0.0007258306723088026,
           -0.006774601526558399,
           0.00010395028948551044,
           0.0024202936328947544,
           0.0013881768099963665,
           0.0029579598922282457,
           -0.0016423541819676757,
           0.9999420642852783,
           -0.0005359775386750698,
           0.0013105636462569237,
           -0.003158858511596918,
           0.003787311026826501
          ],
          [
           0.003844708204269409,
           0.00021978233417030424,
           0.0003976346633862704,
           -0.0004920591600239277,
           -0.00009411283826921135,
           0.004455070476979017,
           -0.0016498701879754663,
           0.0007168367737904191,
           -0.0008547600009478629,
           0.00047874273150227964,
           0.004164710640907288,
           -0.002345586894080043,
           -0.0011397571070119739,
           0.0013424521312117577,
           0.004470592364668846,
           -0.0004655866650864482,
           0.9999497532844543,
           -0.0012900613946840167,
           -0.0008043769630603492,
           0.003556146752089262
          ],
          [
           -0.0019591061864048243,
           0.0012277362402528524,
           -0.002319284016266465,
           0.001600941875949502,
           -0.000239372078794986,
           -0.0003311154432594776,
           -0.0025168710853904486,
           -0.0029635620303452015,
           -0.00576576916500926,
           -0.0012460323050618172,
           -0.0014659989392384887,
           -0.0008184862090274692,
           0.002010852564126253,
           0.0033306083641946316,
           -0.0038241411093622446,
           0.0012068626238033175,
           -0.002243270166218281,
           0.9999477863311768,
           0.0012439513811841607,
           -0.0008308950928039849
          ],
          [
           -0.00017330893024336547,
           -0.00044876246829517186,
           0.0020473275799304247,
           -0.002832870464771986,
           -0.0038321898318827152,
           -0.0005804089596495032,
           0.00008697671728441492,
           -0.004468521568924189,
           -0.0005726154777221382,
           -0.0034372599329799414,
           -0.0027719917707145214,
           0.0032910399604588747,
           0.002921932376921177,
           -0.0001942105736816302,
           0.0022982065565884113,
           -0.0011229426600039005,
           0.0015151568222790956,
           0.0005156748229637742,
           0.9999443292617798,
           0.003945677075535059
          ],
          [
           0.001169934868812561,
           0.0023505575954914093,
           0.0007178413216024637,
           -0.001203040825203061,
           -0.0014164535095915198,
           -0.0011101501295343041,
           0.0009831467177718878,
           0.0006294206250458956,
           0.0037113188300281763,
           -0.00010864927025977522,
           -0.0022805898915976286,
           -0.0006330682663246989,
           -0.002468928461894393,
           0.0022958882618695498,
           -0.0049470472149550915,
           -0.0010842420160770416,
           -0.0016117572085931897,
           0.0007709158235229552,
           -0.002715165726840496,
           0.9999598860740662
          ]
         ]
        }
       ],
       "layout": {
        "height": 600,
        "template": {
         "data": {
          "bar": [
           {
            "error_x": {
             "color": "#2a3f5f"
            },
            "error_y": {
             "color": "#2a3f5f"
            },
            "marker": {
             "line": {
              "color": "#E5ECF6",
              "width": 0.5
             },
             "pattern": {
              "fillmode": "overlay",
              "size": 10,
              "solidity": 0.2
             }
            },
            "type": "bar"
           }
          ],
          "barpolar": [
           {
            "marker": {
             "line": {
              "color": "#E5ECF6",
              "width": 0.5
             },
             "pattern": {
              "fillmode": "overlay",
              "size": 10,
              "solidity": 0.2
             }
            },
            "type": "barpolar"
           }
          ],
          "carpet": [
           {
            "aaxis": {
             "endlinecolor": "#2a3f5f",
             "gridcolor": "white",
             "linecolor": "white",
             "minorgridcolor": "white",
             "startlinecolor": "#2a3f5f"
            },
            "baxis": {
             "endlinecolor": "#2a3f5f",
             "gridcolor": "white",
             "linecolor": "white",
             "minorgridcolor": "white",
             "startlinecolor": "#2a3f5f"
            },
            "type": "carpet"
           }
          ],
          "choropleth": [
           {
            "colorbar": {
             "outlinewidth": 0,
             "ticks": ""
            },
            "type": "choropleth"
           }
          ],
          "contour": [
           {
            "colorbar": {
             "outlinewidth": 0,
             "ticks": ""
            },
            "colorscale": [
             [
              0,
              "#0d0887"
             ],
             [
              0.1111111111111111,
              "#46039f"
             ],
             [
              0.2222222222222222,
              "#7201a8"
             ],
             [
              0.3333333333333333,
              "#9c179e"
             ],
             [
              0.4444444444444444,
              "#bd3786"
             ],
             [
              0.5555555555555556,
              "#d8576b"
             ],
             [
              0.6666666666666666,
              "#ed7953"
             ],
             [
              0.7777777777777778,
              "#fb9f3a"
             ],
             [
              0.8888888888888888,
              "#fdca26"
             ],
             [
              1,
              "#f0f921"
             ]
            ],
            "type": "contour"
           }
          ],
          "contourcarpet": [
           {
            "colorbar": {
             "outlinewidth": 0,
             "ticks": ""
            },
            "type": "contourcarpet"
           }
          ],
          "heatmap": [
           {
            "colorbar": {
             "outlinewidth": 0,
             "ticks": ""
            },
            "colorscale": [
             [
              0,
              "#0d0887"
             ],
             [
              0.1111111111111111,
              "#46039f"
             ],
             [
              0.2222222222222222,
              "#7201a8"
             ],
             [
              0.3333333333333333,
              "#9c179e"
             ],
             [
              0.4444444444444444,
              "#bd3786"
             ],
             [
              0.5555555555555556,
              "#d8576b"
             ],
             [
              0.6666666666666666,
              "#ed7953"
             ],
             [
              0.7777777777777778,
              "#fb9f3a"
             ],
             [
              0.8888888888888888,
              "#fdca26"
             ],
             [
              1,
              "#f0f921"
             ]
            ],
            "type": "heatmap"
           }
          ],
          "heatmapgl": [
           {
            "colorbar": {
             "outlinewidth": 0,
             "ticks": ""
            },
            "colorscale": [
             [
              0,
              "#0d0887"
             ],
             [
              0.1111111111111111,
              "#46039f"
             ],
             [
              0.2222222222222222,
              "#7201a8"
             ],
             [
              0.3333333333333333,
              "#9c179e"
             ],
             [
              0.4444444444444444,
              "#bd3786"
             ],
             [
              0.5555555555555556,
              "#d8576b"
             ],
             [
              0.6666666666666666,
              "#ed7953"
             ],
             [
              0.7777777777777778,
              "#fb9f3a"
             ],
             [
              0.8888888888888888,
              "#fdca26"
             ],
             [
              1,
              "#f0f921"
             ]
            ],
            "type": "heatmapgl"
           }
          ],
          "histogram": [
           {
            "marker": {
             "pattern": {
              "fillmode": "overlay",
              "size": 10,
              "solidity": 0.2
             }
            },
            "type": "histogram"
           }
          ],
          "histogram2d": [
           {
            "colorbar": {
             "outlinewidth": 0,
             "ticks": ""
            },
            "colorscale": [
             [
              0,
              "#0d0887"
             ],
             [
              0.1111111111111111,
              "#46039f"
             ],
             [
              0.2222222222222222,
              "#7201a8"
             ],
             [
              0.3333333333333333,
              "#9c179e"
             ],
             [
              0.4444444444444444,
              "#bd3786"
             ],
             [
              0.5555555555555556,
              "#d8576b"
             ],
             [
              0.6666666666666666,
              "#ed7953"
             ],
             [
              0.7777777777777778,
              "#fb9f3a"
             ],
             [
              0.8888888888888888,
              "#fdca26"
             ],
             [
              1,
              "#f0f921"
             ]
            ],
            "type": "histogram2d"
           }
          ],
          "histogram2dcontour": [
           {
            "colorbar": {
             "outlinewidth": 0,
             "ticks": ""
            },
            "colorscale": [
             [
              0,
              "#0d0887"
             ],
             [
              0.1111111111111111,
              "#46039f"
             ],
             [
              0.2222222222222222,
              "#7201a8"
             ],
             [
              0.3333333333333333,
              "#9c179e"
             ],
             [
              0.4444444444444444,
              "#bd3786"
             ],
             [
              0.5555555555555556,
              "#d8576b"
             ],
             [
              0.6666666666666666,
              "#ed7953"
             ],
             [
              0.7777777777777778,
              "#fb9f3a"
             ],
             [
              0.8888888888888888,
              "#fdca26"
             ],
             [
              1,
              "#f0f921"
             ]
            ],
            "type": "histogram2dcontour"
           }
          ],
          "mesh3d": [
           {
            "colorbar": {
             "outlinewidth": 0,
             "ticks": ""
            },
            "type": "mesh3d"
           }
          ],
          "parcoords": [
           {
            "line": {
             "colorbar": {
              "outlinewidth": 0,
              "ticks": ""
             }
            },
            "type": "parcoords"
           }
          ],
          "pie": [
           {
            "automargin": true,
            "type": "pie"
           }
          ],
          "scatter": [
           {
            "fillpattern": {
             "fillmode": "overlay",
             "size": 10,
             "solidity": 0.2
            },
            "type": "scatter"
           }
          ],
          "scatter3d": [
           {
            "line": {
             "colorbar": {
              "outlinewidth": 0,
              "ticks": ""
             }
            },
            "marker": {
             "colorbar": {
              "outlinewidth": 0,
              "ticks": ""
             }
            },
            "type": "scatter3d"
           }
          ],
          "scattercarpet": [
           {
            "marker": {
             "colorbar": {
              "outlinewidth": 0,
              "ticks": ""
             }
            },
            "type": "scattercarpet"
           }
          ],
          "scattergeo": [
           {
            "marker": {
             "colorbar": {
              "outlinewidth": 0,
              "ticks": ""
             }
            },
            "type": "scattergeo"
           }
          ],
          "scattergl": [
           {
            "marker": {
             "colorbar": {
              "outlinewidth": 0,
              "ticks": ""
             }
            },
            "type": "scattergl"
           }
          ],
          "scattermapbox": [
           {
            "marker": {
             "colorbar": {
              "outlinewidth": 0,
              "ticks": ""
             }
            },
            "type": "scattermapbox"
           }
          ],
          "scatterpolar": [
           {
            "marker": {
             "colorbar": {
              "outlinewidth": 0,
              "ticks": ""
             }
            },
            "type": "scatterpolar"
           }
          ],
          "scatterpolargl": [
           {
            "marker": {
             "colorbar": {
              "outlinewidth": 0,
              "ticks": ""
             }
            },
            "type": "scatterpolargl"
           }
          ],
          "scatterternary": [
           {
            "marker": {
             "colorbar": {
              "outlinewidth": 0,
              "ticks": ""
             }
            },
            "type": "scatterternary"
           }
          ],
          "surface": [
           {
            "colorbar": {
             "outlinewidth": 0,
             "ticks": ""
            },
            "colorscale": [
             [
              0,
              "#0d0887"
             ],
             [
              0.1111111111111111,
              "#46039f"
             ],
             [
              0.2222222222222222,
              "#7201a8"
             ],
             [
              0.3333333333333333,
              "#9c179e"
             ],
             [
              0.4444444444444444,
              "#bd3786"
             ],
             [
              0.5555555555555556,
              "#d8576b"
             ],
             [
              0.6666666666666666,
              "#ed7953"
             ],
             [
              0.7777777777777778,
              "#fb9f3a"
             ],
             [
              0.8888888888888888,
              "#fdca26"
             ],
             [
              1,
              "#f0f921"
             ]
            ],
            "type": "surface"
           }
          ],
          "table": [
           {
            "cells": {
             "fill": {
              "color": "#EBF0F8"
             },
             "line": {
              "color": "white"
             }
            },
            "header": {
             "fill": {
              "color": "#C8D4E3"
             },
             "line": {
              "color": "white"
             }
            },
            "type": "table"
           }
          ]
         },
         "layout": {
          "annotationdefaults": {
           "arrowcolor": "#2a3f5f",
           "arrowhead": 0,
           "arrowwidth": 1
          },
          "autotypenumbers": "strict",
          "coloraxis": {
           "colorbar": {
            "outlinewidth": 0,
            "ticks": ""
           }
          },
          "colorscale": {
           "diverging": [
            [
             0,
             "#8e0152"
            ],
            [
             0.1,
             "#c51b7d"
            ],
            [
             0.2,
             "#de77ae"
            ],
            [
             0.3,
             "#f1b6da"
            ],
            [
             0.4,
             "#fde0ef"
            ],
            [
             0.5,
             "#f7f7f7"
            ],
            [
             0.6,
             "#e6f5d0"
            ],
            [
             0.7,
             "#b8e186"
            ],
            [
             0.8,
             "#7fbc41"
            ],
            [
             0.9,
             "#4d9221"
            ],
            [
             1,
             "#276419"
            ]
           ],
           "sequential": [
            [
             0,
             "#0d0887"
            ],
            [
             0.1111111111111111,
             "#46039f"
            ],
            [
             0.2222222222222222,
             "#7201a8"
            ],
            [
             0.3333333333333333,
             "#9c179e"
            ],
            [
             0.4444444444444444,
             "#bd3786"
            ],
            [
             0.5555555555555556,
             "#d8576b"
            ],
            [
             0.6666666666666666,
             "#ed7953"
            ],
            [
             0.7777777777777778,
             "#fb9f3a"
            ],
            [
             0.8888888888888888,
             "#fdca26"
            ],
            [
             1,
             "#f0f921"
            ]
           ],
           "sequentialminus": [
            [
             0,
             "#0d0887"
            ],
            [
             0.1111111111111111,
             "#46039f"
            ],
            [
             0.2222222222222222,
             "#7201a8"
            ],
            [
             0.3333333333333333,
             "#9c179e"
            ],
            [
             0.4444444444444444,
             "#bd3786"
            ],
            [
             0.5555555555555556,
             "#d8576b"
            ],
            [
             0.6666666666666666,
             "#ed7953"
            ],
            [
             0.7777777777777778,
             "#fb9f3a"
            ],
            [
             0.8888888888888888,
             "#fdca26"
            ],
            [
             1,
             "#f0f921"
            ]
           ]
          },
          "colorway": [
           "#636efa",
           "#EF553B",
           "#00cc96",
           "#ab63fa",
           "#FFA15A",
           "#19d3f3",
           "#FF6692",
           "#B6E880",
           "#FF97FF",
           "#FECB52"
          ],
          "font": {
           "color": "#2a3f5f"
          },
          "geo": {
           "bgcolor": "white",
           "lakecolor": "white",
           "landcolor": "#E5ECF6",
           "showlakes": true,
           "showland": true,
           "subunitcolor": "white"
          },
          "hoverlabel": {
           "align": "left"
          },
          "hovermode": "closest",
          "mapbox": {
           "style": "light"
          },
          "paper_bgcolor": "white",
          "plot_bgcolor": "#E5ECF6",
          "polar": {
           "angularaxis": {
            "gridcolor": "white",
            "linecolor": "white",
            "ticks": ""
           },
           "bgcolor": "#E5ECF6",
           "radialaxis": {
            "gridcolor": "white",
            "linecolor": "white",
            "ticks": ""
           }
          },
          "scene": {
           "xaxis": {
            "backgroundcolor": "#E5ECF6",
            "gridcolor": "white",
            "gridwidth": 2,
            "linecolor": "white",
            "showbackground": true,
            "ticks": "",
            "zerolinecolor": "white"
           },
           "yaxis": {
            "backgroundcolor": "#E5ECF6",
            "gridcolor": "white",
            "gridwidth": 2,
            "linecolor": "white",
            "showbackground": true,
            "ticks": "",
            "zerolinecolor": "white"
           },
           "zaxis": {
            "backgroundcolor": "#E5ECF6",
            "gridcolor": "white",
            "gridwidth": 2,
            "linecolor": "white",
            "showbackground": true,
            "ticks": "",
            "zerolinecolor": "white"
           }
          },
          "shapedefaults": {
           "line": {
            "color": "#2a3f5f"
           }
          },
          "ternary": {
           "aaxis": {
            "gridcolor": "white",
            "linecolor": "white",
            "ticks": ""
           },
           "baxis": {
            "gridcolor": "white",
            "linecolor": "white",
            "ticks": ""
           },
           "bgcolor": "#E5ECF6",
           "caxis": {
            "gridcolor": "white",
            "linecolor": "white",
            "ticks": ""
           }
          },
          "title": {
           "x": 0.05
          },
          "xaxis": {
           "automargin": true,
           "gridcolor": "white",
           "linecolor": "white",
           "ticks": "",
           "title": {
            "standoff": 15
           },
           "zerolinecolor": "white",
           "zerolinewidth": 2
          },
          "yaxis": {
           "automargin": true,
           "gridcolor": "white",
           "linecolor": "white",
           "ticks": "",
           "title": {
            "standoff": 15
           },
           "zerolinecolor": "white",
           "zerolinewidth": 2
          }
         }
        },
        "title": {
         "text": "Vanilla Encoder, Ground-Truth Cosine Similarity"
        },
        "width": 1000,
        "xaxis": {
         "showticklabels": false,
         "title": {
          "text": "Feature (20)"
         }
        },
        "yaxis": {
         "autorange": "reversed",
         "showticklabels": false,
         "title": {
          "text": "Latent (20)"
         }
        }
       }
      }
     },
     "metadata": {},
     "output_type": "display_data"
    }
   ],
   "source": [
    "from noa_tools import reload_module\n",
    "reload_module('heatmap')\n",
    "from heatmap import heatmap\n",
    "clear_output(wait=True)\n",
    "\n",
    "matryoshka_perm = get_latent_perm(matryoshka_sae, dataset)\n",
    "vanilla_perm = get_latent_perm(vanilla_sae, dataset)\n",
    "\n",
    "# Compute cosine similarity matrix of ground truth features\n",
    "gt_cosine = F.normalize(true_feats, dim=1) @ F.normalize(true_feats, dim=1).T\n",
    "gt_sims = heatmap(gt_cosine.cpu(), title='Ground Truth Feature Cosine Similarity')\n",
    "gt_sims.show()\n",
    "\n",
    "# Compute cosine similarity between learned and ground truth features\n",
    "matryoshka_feats = matryoshka_sae.W_dec.data\n",
    "vanilla_feats = vanilla_sae.W_dec.data\n",
    "\n",
    "matryoshka_cosine = F.normalize(matryoshka_feats, dim=1)[matryoshka_perm] @ F.normalize(true_feats, dim=1).T\n",
    "vanilla_cosine = F.normalize(vanilla_feats, dim=1)[vanilla_perm] @ F.normalize(true_feats, dim=1).T\n",
    "\n",
    "m_dec_sims = heatmap(matryoshka_cosine.cpu(), title='Matryoshka Decoder, Ground-Truth Cosine Similarity', dim_names=('Matryoshka', 'True Feature'))\n",
    "m_dec_sims.show()\n",
    "\n",
    "v_dec_sims = heatmap(vanilla_cosine.cpu(), title='Vanilla Decoder, Ground-Truth Cosine Similarity', dim_names=('Vanilla', 'Ground-Truth'))\n",
    "v_dec_sims.show()\n",
    "\n",
    "# Compare encoder and decoder weights\n",
    "matryoshka_enc = matryoshka_sae.W_enc.data.T\n",
    "vanilla_enc = vanilla_sae.W_enc.data.T\n",
    "\n",
    "matryoshka_enc_true = F.normalize(matryoshka_enc, dim=1)[matryoshka_perm] @ F.normalize(true_feats, dim=1).T\n",
    "vanilla_enc_true = F.normalize(vanilla_enc, dim=1)[vanilla_perm] @ F.normalize(true_feats, dim=1).T\n",
    "\n",
    "\n",
    "m_enc_sims = heatmap(matryoshka_enc_true.cpu(), title='Matryoshka Encoder, Ground-Truth Cosine Similarity', dim_names=('Latent', 'Feature'))\n",
    "m_enc_sims.show()\n",
    "v_enc_sims = heatmap(vanilla_enc_true.cpu(), title='Vanilla Encoder, Ground-Truth Cosine Similarity', dim_names=('Latent', 'Feature'))\n",
    "v_enc_sims.show()\n"
   ]
  },
  {
   "cell_type": "code",
   "execution_count": 114,
   "metadata": {},
   "outputs": [],
   "source": [
    "# Save plotly figures locally\n",
    "gt_sims.write_html(\"figures/gt_feature_cosine.html\")\n",
    "m_dec_sims.write_html(\"figures/matryoshka_decoder_gt_cosine.html\") \n",
    "v_dec_sims.write_html(\"figures/vanilla_decoder_gt_cosine.html\")\n",
    "m_enc_sims.write_html(\"figures/matryoshka_encoder_gt_cosine.html\")\n",
    "v_enc_sims.write_html(\"figures/vanilla_encoder_gt_cosine.html\")\n",
    "\n",
    "# Save plotly figures as PNG files\n",
    "gt_sims.write_image(\"figures/gt_feature_cosine.png\", scale=4)\n",
    "m_dec_sims.write_image(\"figures/matryoshka_decoder_gt_cosine.png\", scale=4)\n",
    "v_dec_sims.write_image(\"figures/vanilla_decoder_gt_cosine.png\", scale=4)\n",
    "m_enc_sims.write_image(\"figures/matryoshka_encoder_gt_cosine.png\", scale=4)\n",
    "v_enc_sims.write_image(\"figures/vanilla_encoder_gt_cosine.png\", scale=4)\n",
    "\n"
   ]
  }
 ],
 "metadata": {
  "kernelspec": {
   "display_name": "tokre",
   "language": "python",
   "name": "python3"
  },
  "language_info": {
   "codemirror_mode": {
    "name": "ipython",
    "version": 3
   },
   "file_extension": ".py",
   "mimetype": "text/x-python",
   "name": "python",
   "nbconvert_exporter": "python",
   "pygments_lexer": "ipython3",
   "version": "3.11.9"
  }
 },
 "nbformat": 4,
 "nbformat_minor": 2
}
